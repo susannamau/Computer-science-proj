{
 "cells": [
  {
   "cell_type": "markdown",
   "metadata": {
    "id": "dkKZHWYFbhww"
   },
   "source": [
    "# Progetto Foundations of Computer Science\n",
    "## Anno accademico 2021-22\n",
    "### Elisa Bernasconi 815551, Damiano Garofoli 837589, Susanna Maugeri 839365"
   ]
  },
  {
   "cell_type": "markdown",
   "metadata": {
    "id": "DeCJ6Xgrbhwz"
   },
   "source": [
    "You have to work on the files:\n",
    "*  [Books](https://github.com/gdv/foundationsCS/raw/master/progetti/2021/Books.csv.gz)\n",
    "*  [Book ratings](https://github.com/gdv/foundationsCS/raw/master/progetti/2021/Book-Ratings.csv.gz)\n",
    "*  [Users](https://github.com/gdv/foundationsCS/raw/master/progetti/2021/Users.csv.gz)\n",
    "*  [Goodbooks books](https://github.com/gdv/foundationsCS/raw/master/progetti/2021/goodbooks.csv.gz)\n",
    "*  [Goodbooks ratings](https://github.com/gdv/foundationsCS/raw/master/progetti/2021/goodbooks-ratings.csv.gz)\n",
    "\n",
    "### Notes\n",
    "\n",
    "1.    It is mandatory to use GitHub for developing the project.\n",
    "1.    The project must be a jupyter notebook.\n",
    "1.    There is no restriction on the libraries that can be used, nor on the Python version.\n",
    "1.    To read those files, you need to use the `encoding = 'latin-1'` option.\n",
    "1.    All questions on the project **must** be asked in a public channel on [Zulip](https://focs.zulipchat.com), otherwise no  answer will be given."
   ]
  },
  {
   "cell_type": "markdown",
   "metadata": {
    "id": "GYemrj6Tbhw0"
   },
   "source": [
    "### Importazione delle librerie _pandas_ e _numpy_ e dei dataset necessari"
   ]
  },
  {
   "cell_type": "code",
   "execution_count": 1,
   "metadata": {
    "id": "AuTrEoJrbhw1"
   },
   "outputs": [],
   "source": [
    "import pandas as pd\n",
    "import numpy as np"
   ]
  },
  {
   "cell_type": "markdown",
   "metadata": {
    "id": "eFDJZhQ6bhw2"
   },
   "source": [
    "Iniziamo con l'importazione dei file .csv."
   ]
  },
  {
   "cell_type": "code",
   "execution_count": 2,
   "metadata": {
    "id": "NSW-_23_bhw2",
    "outputId": "d4f61654-85dd-45e4-d1ef-e3de469b6db6"
   },
   "outputs": [
    {
     "data": {
      "text/html": [
       "<div>\n",
       "<style scoped>\n",
       "    .dataframe tbody tr th:only-of-type {\n",
       "        vertical-align: middle;\n",
       "    }\n",
       "\n",
       "    .dataframe tbody tr th {\n",
       "        vertical-align: top;\n",
       "    }\n",
       "\n",
       "    .dataframe thead th {\n",
       "        text-align: right;\n",
       "    }\n",
       "</style>\n",
       "<table border=\"1\" class=\"dataframe\">\n",
       "  <thead>\n",
       "    <tr style=\"text-align: right;\">\n",
       "      <th></th>\n",
       "      <th>ISBN</th>\n",
       "      <th>Book-Title</th>\n",
       "      <th>Book-Author</th>\n",
       "      <th>Year-Of-Publication</th>\n",
       "      <th>Publisher</th>\n",
       "      <th>Image-URL-S</th>\n",
       "      <th>Image-URL-M</th>\n",
       "      <th>Image-URL-L</th>\n",
       "    </tr>\n",
       "  </thead>\n",
       "  <tbody>\n",
       "    <tr>\n",
       "      <th>0</th>\n",
       "      <td>0195153448</td>\n",
       "      <td>Classical Mythology</td>\n",
       "      <td>Mark P. O. Morford</td>\n",
       "      <td>2002</td>\n",
       "      <td>Oxford University Press</td>\n",
       "      <td>http://images.amazon.com/images/P/0195153448.0...</td>\n",
       "      <td>http://images.amazon.com/images/P/0195153448.0...</td>\n",
       "      <td>http://images.amazon.com/images/P/0195153448.0...</td>\n",
       "    </tr>\n",
       "    <tr>\n",
       "      <th>1</th>\n",
       "      <td>0002005018</td>\n",
       "      <td>Clara Callan</td>\n",
       "      <td>Richard Bruce Wright</td>\n",
       "      <td>2001</td>\n",
       "      <td>HarperFlamingo Canada</td>\n",
       "      <td>http://images.amazon.com/images/P/0002005018.0...</td>\n",
       "      <td>http://images.amazon.com/images/P/0002005018.0...</td>\n",
       "      <td>http://images.amazon.com/images/P/0002005018.0...</td>\n",
       "    </tr>\n",
       "    <tr>\n",
       "      <th>2</th>\n",
       "      <td>0060973129</td>\n",
       "      <td>Decision in Normandy</td>\n",
       "      <td>Carlo D'Este</td>\n",
       "      <td>1991</td>\n",
       "      <td>HarperPerennial</td>\n",
       "      <td>http://images.amazon.com/images/P/0060973129.0...</td>\n",
       "      <td>http://images.amazon.com/images/P/0060973129.0...</td>\n",
       "      <td>http://images.amazon.com/images/P/0060973129.0...</td>\n",
       "    </tr>\n",
       "    <tr>\n",
       "      <th>3</th>\n",
       "      <td>0374157065</td>\n",
       "      <td>Flu: The Story of the Great Influenza Pandemic...</td>\n",
       "      <td>Gina Bari Kolata</td>\n",
       "      <td>1999</td>\n",
       "      <td>Farrar Straus Giroux</td>\n",
       "      <td>http://images.amazon.com/images/P/0374157065.0...</td>\n",
       "      <td>http://images.amazon.com/images/P/0374157065.0...</td>\n",
       "      <td>http://images.amazon.com/images/P/0374157065.0...</td>\n",
       "    </tr>\n",
       "    <tr>\n",
       "      <th>4</th>\n",
       "      <td>0393045218</td>\n",
       "      <td>The Mummies of Urumchi</td>\n",
       "      <td>E. J. W. Barber</td>\n",
       "      <td>1999</td>\n",
       "      <td>W. W. Norton &amp;amp; Company</td>\n",
       "      <td>http://images.amazon.com/images/P/0393045218.0...</td>\n",
       "      <td>http://images.amazon.com/images/P/0393045218.0...</td>\n",
       "      <td>http://images.amazon.com/images/P/0393045218.0...</td>\n",
       "    </tr>\n",
       "  </tbody>\n",
       "</table>\n",
       "</div>"
      ],
      "text/plain": [
       "         ISBN                                         Book-Title  \\\n",
       "0  0195153448                                Classical Mythology   \n",
       "1  0002005018                                       Clara Callan   \n",
       "2  0060973129                               Decision in Normandy   \n",
       "3  0374157065  Flu: The Story of the Great Influenza Pandemic...   \n",
       "4  0393045218                             The Mummies of Urumchi   \n",
       "\n",
       "            Book-Author Year-Of-Publication                   Publisher  \\\n",
       "0    Mark P. O. Morford                2002     Oxford University Press   \n",
       "1  Richard Bruce Wright                2001       HarperFlamingo Canada   \n",
       "2          Carlo D'Este                1991             HarperPerennial   \n",
       "3      Gina Bari Kolata                1999        Farrar Straus Giroux   \n",
       "4       E. J. W. Barber                1999  W. W. Norton &amp; Company   \n",
       "\n",
       "                                         Image-URL-S  \\\n",
       "0  http://images.amazon.com/images/P/0195153448.0...   \n",
       "1  http://images.amazon.com/images/P/0002005018.0...   \n",
       "2  http://images.amazon.com/images/P/0060973129.0...   \n",
       "3  http://images.amazon.com/images/P/0374157065.0...   \n",
       "4  http://images.amazon.com/images/P/0393045218.0...   \n",
       "\n",
       "                                         Image-URL-M  \\\n",
       "0  http://images.amazon.com/images/P/0195153448.0...   \n",
       "1  http://images.amazon.com/images/P/0002005018.0...   \n",
       "2  http://images.amazon.com/images/P/0060973129.0...   \n",
       "3  http://images.amazon.com/images/P/0374157065.0...   \n",
       "4  http://images.amazon.com/images/P/0393045218.0...   \n",
       "\n",
       "                                         Image-URL-L  \n",
       "0  http://images.amazon.com/images/P/0195153448.0...  \n",
       "1  http://images.amazon.com/images/P/0002005018.0...  \n",
       "2  http://images.amazon.com/images/P/0060973129.0...  \n",
       "3  http://images.amazon.com/images/P/0374157065.0...  \n",
       "4  http://images.amazon.com/images/P/0393045218.0...  "
      ]
     },
     "execution_count": 2,
     "metadata": {},
     "output_type": "execute_result"
    }
   ],
   "source": [
    "books = pd.read_csv(\"Data/Books.csv\", encoding = 'latin-1', sep=';', low_memory=False, header=0)\n",
    "books.head()"
   ]
  },
  {
   "cell_type": "code",
   "execution_count": 3,
   "metadata": {
    "id": "ZR1AcK0-bhw3",
    "outputId": "23a2e110-02ff-4378-a42f-f79cd45966e2"
   },
   "outputs": [
    {
     "data": {
      "text/html": [
       "<div>\n",
       "<style scoped>\n",
       "    .dataframe tbody tr th:only-of-type {\n",
       "        vertical-align: middle;\n",
       "    }\n",
       "\n",
       "    .dataframe tbody tr th {\n",
       "        vertical-align: top;\n",
       "    }\n",
       "\n",
       "    .dataframe thead th {\n",
       "        text-align: right;\n",
       "    }\n",
       "</style>\n",
       "<table border=\"1\" class=\"dataframe\">\n",
       "  <thead>\n",
       "    <tr style=\"text-align: right;\">\n",
       "      <th></th>\n",
       "      <th>User-ID</th>\n",
       "      <th>ISBN</th>\n",
       "      <th>Book-Rating</th>\n",
       "    </tr>\n",
       "  </thead>\n",
       "  <tbody>\n",
       "    <tr>\n",
       "      <th>0</th>\n",
       "      <td>276725</td>\n",
       "      <td>034545104X</td>\n",
       "      <td>0</td>\n",
       "    </tr>\n",
       "    <tr>\n",
       "      <th>1</th>\n",
       "      <td>276726</td>\n",
       "      <td>0155061224</td>\n",
       "      <td>5</td>\n",
       "    </tr>\n",
       "    <tr>\n",
       "      <th>2</th>\n",
       "      <td>276727</td>\n",
       "      <td>0446520802</td>\n",
       "      <td>0</td>\n",
       "    </tr>\n",
       "    <tr>\n",
       "      <th>3</th>\n",
       "      <td>276729</td>\n",
       "      <td>052165615X</td>\n",
       "      <td>3</td>\n",
       "    </tr>\n",
       "    <tr>\n",
       "      <th>4</th>\n",
       "      <td>276729</td>\n",
       "      <td>0521795028</td>\n",
       "      <td>6</td>\n",
       "    </tr>\n",
       "  </tbody>\n",
       "</table>\n",
       "</div>"
      ],
      "text/plain": [
       "   User-ID        ISBN  Book-Rating\n",
       "0   276725  034545104X            0\n",
       "1   276726  0155061224            5\n",
       "2   276727  0446520802            0\n",
       "3   276729  052165615X            3\n",
       "4   276729  0521795028            6"
      ]
     },
     "execution_count": 3,
     "metadata": {},
     "output_type": "execute_result"
    }
   ],
   "source": [
    "book_rat = pd.read_csv(\"Data/Book-Ratings.csv\", encoding = 'latin-1', sep=';', low_memory=False, header=0)\n",
    "book_rat.head()"
   ]
  },
  {
   "cell_type": "code",
   "execution_count": 4,
   "metadata": {
    "id": "cMO1F5gXbhw4",
    "outputId": "bd6442d2-0ce7-4ac8-85e9-f30296a672da"
   },
   "outputs": [
    {
     "data": {
      "text/html": [
       "<div>\n",
       "<style scoped>\n",
       "    .dataframe tbody tr th:only-of-type {\n",
       "        vertical-align: middle;\n",
       "    }\n",
       "\n",
       "    .dataframe tbody tr th {\n",
       "        vertical-align: top;\n",
       "    }\n",
       "\n",
       "    .dataframe thead th {\n",
       "        text-align: right;\n",
       "    }\n",
       "</style>\n",
       "<table border=\"1\" class=\"dataframe\">\n",
       "  <thead>\n",
       "    <tr style=\"text-align: right;\">\n",
       "      <th></th>\n",
       "      <th>User-ID</th>\n",
       "      <th>Location</th>\n",
       "      <th>Age</th>\n",
       "    </tr>\n",
       "  </thead>\n",
       "  <tbody>\n",
       "    <tr>\n",
       "      <th>0</th>\n",
       "      <td>1</td>\n",
       "      <td>nyc, new york, usa</td>\n",
       "      <td>NaN</td>\n",
       "    </tr>\n",
       "    <tr>\n",
       "      <th>1</th>\n",
       "      <td>2</td>\n",
       "      <td>stockton, california, usa</td>\n",
       "      <td>18.0</td>\n",
       "    </tr>\n",
       "    <tr>\n",
       "      <th>2</th>\n",
       "      <td>3</td>\n",
       "      <td>moscow, yukon territory, russia</td>\n",
       "      <td>NaN</td>\n",
       "    </tr>\n",
       "    <tr>\n",
       "      <th>3</th>\n",
       "      <td>4</td>\n",
       "      <td>porto, v.n.gaia, portugal</td>\n",
       "      <td>17.0</td>\n",
       "    </tr>\n",
       "    <tr>\n",
       "      <th>4</th>\n",
       "      <td>5</td>\n",
       "      <td>farnborough, hants, united kingdom</td>\n",
       "      <td>NaN</td>\n",
       "    </tr>\n",
       "  </tbody>\n",
       "</table>\n",
       "</div>"
      ],
      "text/plain": [
       "   User-ID                            Location   Age\n",
       "0        1                  nyc, new york, usa   NaN\n",
       "1        2           stockton, california, usa  18.0\n",
       "2        3     moscow, yukon territory, russia   NaN\n",
       "3        4           porto, v.n.gaia, portugal  17.0\n",
       "4        5  farnborough, hants, united kingdom   NaN"
      ]
     },
     "execution_count": 4,
     "metadata": {},
     "output_type": "execute_result"
    }
   ],
   "source": [
    "users = pd.read_csv(\"Data/Users.csv\", encoding = 'latin-1', sep=';', low_memory=False, header=0)\n",
    "users.head()"
   ]
  },
  {
   "cell_type": "code",
   "execution_count": 5,
   "metadata": {
    "id": "qqASFr9obhw5",
    "outputId": "fe08fbed-18da-4325-ada4-8d12423f91fa"
   },
   "outputs": [
    {
     "data": {
      "text/html": [
       "<div>\n",
       "<style scoped>\n",
       "    .dataframe tbody tr th:only-of-type {\n",
       "        vertical-align: middle;\n",
       "    }\n",
       "\n",
       "    .dataframe tbody tr th {\n",
       "        vertical-align: top;\n",
       "    }\n",
       "\n",
       "    .dataframe thead th {\n",
       "        text-align: right;\n",
       "    }\n",
       "</style>\n",
       "<table border=\"1\" class=\"dataframe\">\n",
       "  <thead>\n",
       "    <tr style=\"text-align: right;\">\n",
       "      <th></th>\n",
       "      <th>book_id</th>\n",
       "      <th>goodreads_book_id</th>\n",
       "      <th>best_book_id</th>\n",
       "      <th>work_id</th>\n",
       "      <th>books_count</th>\n",
       "      <th>isbn</th>\n",
       "      <th>isbn13</th>\n",
       "      <th>authors</th>\n",
       "      <th>original_publication_year</th>\n",
       "      <th>original_title</th>\n",
       "      <th>...</th>\n",
       "      <th>ratings_count</th>\n",
       "      <th>work_ratings_count</th>\n",
       "      <th>work_text_reviews_count</th>\n",
       "      <th>ratings_1</th>\n",
       "      <th>ratings_2</th>\n",
       "      <th>ratings_3</th>\n",
       "      <th>ratings_4</th>\n",
       "      <th>ratings_5</th>\n",
       "      <th>image_url</th>\n",
       "      <th>small_image_url</th>\n",
       "    </tr>\n",
       "  </thead>\n",
       "  <tbody>\n",
       "    <tr>\n",
       "      <th>0</th>\n",
       "      <td>1</td>\n",
       "      <td>2767052</td>\n",
       "      <td>2767052</td>\n",
       "      <td>2792775</td>\n",
       "      <td>272</td>\n",
       "      <td>439023483</td>\n",
       "      <td>9.780439e+12</td>\n",
       "      <td>Suzanne Collins</td>\n",
       "      <td>2008.0</td>\n",
       "      <td>The Hunger Games</td>\n",
       "      <td>...</td>\n",
       "      <td>4780653</td>\n",
       "      <td>4942365</td>\n",
       "      <td>155254</td>\n",
       "      <td>66715</td>\n",
       "      <td>127936</td>\n",
       "      <td>560092</td>\n",
       "      <td>1481305</td>\n",
       "      <td>2706317</td>\n",
       "      <td>https://images.gr-assets.com/books/1447303603m...</td>\n",
       "      <td>https://images.gr-assets.com/books/1447303603s...</td>\n",
       "    </tr>\n",
       "    <tr>\n",
       "      <th>1</th>\n",
       "      <td>2</td>\n",
       "      <td>3</td>\n",
       "      <td>3</td>\n",
       "      <td>4640799</td>\n",
       "      <td>491</td>\n",
       "      <td>439554934</td>\n",
       "      <td>9.780440e+12</td>\n",
       "      <td>J.K. Rowling, Mary GrandPrÃ©</td>\n",
       "      <td>1997.0</td>\n",
       "      <td>Harry Potter and the Philosopher's Stone</td>\n",
       "      <td>...</td>\n",
       "      <td>4602479</td>\n",
       "      <td>4800065</td>\n",
       "      <td>75867</td>\n",
       "      <td>75504</td>\n",
       "      <td>101676</td>\n",
       "      <td>455024</td>\n",
       "      <td>1156318</td>\n",
       "      <td>3011543</td>\n",
       "      <td>https://images.gr-assets.com/books/1474154022m...</td>\n",
       "      <td>https://images.gr-assets.com/books/1474154022s...</td>\n",
       "    </tr>\n",
       "    <tr>\n",
       "      <th>2</th>\n",
       "      <td>3</td>\n",
       "      <td>41865</td>\n",
       "      <td>41865</td>\n",
       "      <td>3212258</td>\n",
       "      <td>226</td>\n",
       "      <td>316015849</td>\n",
       "      <td>9.780316e+12</td>\n",
       "      <td>Stephenie Meyer</td>\n",
       "      <td>2005.0</td>\n",
       "      <td>Twilight</td>\n",
       "      <td>...</td>\n",
       "      <td>3866839</td>\n",
       "      <td>3916824</td>\n",
       "      <td>95009</td>\n",
       "      <td>456191</td>\n",
       "      <td>436802</td>\n",
       "      <td>793319</td>\n",
       "      <td>875073</td>\n",
       "      <td>1355439</td>\n",
       "      <td>https://images.gr-assets.com/books/1361039443m...</td>\n",
       "      <td>https://images.gr-assets.com/books/1361039443s...</td>\n",
       "    </tr>\n",
       "    <tr>\n",
       "      <th>3</th>\n",
       "      <td>4</td>\n",
       "      <td>2657</td>\n",
       "      <td>2657</td>\n",
       "      <td>3275794</td>\n",
       "      <td>487</td>\n",
       "      <td>61120081</td>\n",
       "      <td>9.780061e+12</td>\n",
       "      <td>Harper Lee</td>\n",
       "      <td>1960.0</td>\n",
       "      <td>To Kill a Mockingbird</td>\n",
       "      <td>...</td>\n",
       "      <td>3198671</td>\n",
       "      <td>3340896</td>\n",
       "      <td>72586</td>\n",
       "      <td>60427</td>\n",
       "      <td>117415</td>\n",
       "      <td>446835</td>\n",
       "      <td>1001952</td>\n",
       "      <td>1714267</td>\n",
       "      <td>https://images.gr-assets.com/books/1361975680m...</td>\n",
       "      <td>https://images.gr-assets.com/books/1361975680s...</td>\n",
       "    </tr>\n",
       "    <tr>\n",
       "      <th>4</th>\n",
       "      <td>5</td>\n",
       "      <td>4671</td>\n",
       "      <td>4671</td>\n",
       "      <td>245494</td>\n",
       "      <td>1356</td>\n",
       "      <td>743273567</td>\n",
       "      <td>9.780743e+12</td>\n",
       "      <td>F. Scott Fitzgerald</td>\n",
       "      <td>1925.0</td>\n",
       "      <td>The Great Gatsby</td>\n",
       "      <td>...</td>\n",
       "      <td>2683664</td>\n",
       "      <td>2773745</td>\n",
       "      <td>51992</td>\n",
       "      <td>86236</td>\n",
       "      <td>197621</td>\n",
       "      <td>606158</td>\n",
       "      <td>936012</td>\n",
       "      <td>947718</td>\n",
       "      <td>https://images.gr-assets.com/books/1490528560m...</td>\n",
       "      <td>https://images.gr-assets.com/books/1490528560s...</td>\n",
       "    </tr>\n",
       "  </tbody>\n",
       "</table>\n",
       "<p>5 rows × 23 columns</p>\n",
       "</div>"
      ],
      "text/plain": [
       "   book_id  goodreads_book_id  best_book_id  work_id  books_count       isbn  \\\n",
       "0        1            2767052       2767052  2792775          272  439023483   \n",
       "1        2                  3             3  4640799          491  439554934   \n",
       "2        3              41865         41865  3212258          226  316015849   \n",
       "3        4               2657          2657  3275794          487   61120081   \n",
       "4        5               4671          4671   245494         1356  743273567   \n",
       "\n",
       "         isbn13                       authors  original_publication_year  \\\n",
       "0  9.780439e+12               Suzanne Collins                     2008.0   \n",
       "1  9.780440e+12  J.K. Rowling, Mary GrandPrÃ©                     1997.0   \n",
       "2  9.780316e+12               Stephenie Meyer                     2005.0   \n",
       "3  9.780061e+12                    Harper Lee                     1960.0   \n",
       "4  9.780743e+12           F. Scott Fitzgerald                     1925.0   \n",
       "\n",
       "                             original_title  ... ratings_count  \\\n",
       "0                          The Hunger Games  ...       4780653   \n",
       "1  Harry Potter and the Philosopher's Stone  ...       4602479   \n",
       "2                                  Twilight  ...       3866839   \n",
       "3                     To Kill a Mockingbird  ...       3198671   \n",
       "4                          The Great Gatsby  ...       2683664   \n",
       "\n",
       "  work_ratings_count  work_text_reviews_count  ratings_1  ratings_2  \\\n",
       "0            4942365                   155254      66715     127936   \n",
       "1            4800065                    75867      75504     101676   \n",
       "2            3916824                    95009     456191     436802   \n",
       "3            3340896                    72586      60427     117415   \n",
       "4            2773745                    51992      86236     197621   \n",
       "\n",
       "   ratings_3  ratings_4  ratings_5  \\\n",
       "0     560092    1481305    2706317   \n",
       "1     455024    1156318    3011543   \n",
       "2     793319     875073    1355439   \n",
       "3     446835    1001952    1714267   \n",
       "4     606158     936012     947718   \n",
       "\n",
       "                                           image_url  \\\n",
       "0  https://images.gr-assets.com/books/1447303603m...   \n",
       "1  https://images.gr-assets.com/books/1474154022m...   \n",
       "2  https://images.gr-assets.com/books/1361039443m...   \n",
       "3  https://images.gr-assets.com/books/1361975680m...   \n",
       "4  https://images.gr-assets.com/books/1490528560m...   \n",
       "\n",
       "                                     small_image_url  \n",
       "0  https://images.gr-assets.com/books/1447303603s...  \n",
       "1  https://images.gr-assets.com/books/1474154022s...  \n",
       "2  https://images.gr-assets.com/books/1361039443s...  \n",
       "3  https://images.gr-assets.com/books/1361975680s...  \n",
       "4  https://images.gr-assets.com/books/1490528560s...  \n",
       "\n",
       "[5 rows x 23 columns]"
      ]
     },
     "execution_count": 5,
     "metadata": {},
     "output_type": "execute_result"
    }
   ],
   "source": [
    "good_book = pd.read_csv(\"Data/goodbooks.csv\", sep=',', encoding = 'latin-1', low_memory=False, header=0)\n",
    "good_book.head()"
   ]
  },
  {
   "cell_type": "code",
   "execution_count": 6,
   "metadata": {
    "id": "m2BCHyL1bhw6",
    "outputId": "58cff12f-1d08-4b8e-9f13-707a5181fa56"
   },
   "outputs": [
    {
     "data": {
      "text/html": [
       "<div>\n",
       "<style scoped>\n",
       "    .dataframe tbody tr th:only-of-type {\n",
       "        vertical-align: middle;\n",
       "    }\n",
       "\n",
       "    .dataframe tbody tr th {\n",
       "        vertical-align: top;\n",
       "    }\n",
       "\n",
       "    .dataframe thead th {\n",
       "        text-align: right;\n",
       "    }\n",
       "</style>\n",
       "<table border=\"1\" class=\"dataframe\">\n",
       "  <thead>\n",
       "    <tr style=\"text-align: right;\">\n",
       "      <th></th>\n",
       "      <th>user_id</th>\n",
       "      <th>book_id</th>\n",
       "      <th>rating</th>\n",
       "    </tr>\n",
       "  </thead>\n",
       "  <tbody>\n",
       "    <tr>\n",
       "      <th>0</th>\n",
       "      <td>1</td>\n",
       "      <td>258</td>\n",
       "      <td>5</td>\n",
       "    </tr>\n",
       "    <tr>\n",
       "      <th>1</th>\n",
       "      <td>2</td>\n",
       "      <td>4081</td>\n",
       "      <td>4</td>\n",
       "    </tr>\n",
       "    <tr>\n",
       "      <th>2</th>\n",
       "      <td>2</td>\n",
       "      <td>260</td>\n",
       "      <td>5</td>\n",
       "    </tr>\n",
       "    <tr>\n",
       "      <th>3</th>\n",
       "      <td>2</td>\n",
       "      <td>9296</td>\n",
       "      <td>5</td>\n",
       "    </tr>\n",
       "    <tr>\n",
       "      <th>4</th>\n",
       "      <td>2</td>\n",
       "      <td>2318</td>\n",
       "      <td>3</td>\n",
       "    </tr>\n",
       "  </tbody>\n",
       "</table>\n",
       "</div>"
      ],
      "text/plain": [
       "   user_id  book_id  rating\n",
       "0        1      258       5\n",
       "1        2     4081       4\n",
       "2        2      260       5\n",
       "3        2     9296       5\n",
       "4        2     2318       3"
      ]
     },
     "execution_count": 6,
     "metadata": {},
     "output_type": "execute_result"
    }
   ],
   "source": [
    "good_rat = pd.read_csv(\"Data/goodbooks-ratings.csv\", encoding = 'latin-1', sep=',', low_memory=False, header=0)\n",
    "good_rat.head()"
   ]
  },
  {
   "cell_type": "markdown",
   "metadata": {
    "id": "dAorpSA4bhw6"
   },
   "source": [
    "L'importazione dei file .csv è andata a buon fine, tuttavia nonostante l'utilizzo il tipo di encoding _Latin-1_ notiamo che vi sono dei caratteri che non sono stati decodificati nel modo corretto."
   ]
  },
  {
   "cell_type": "markdown",
   "metadata": {
    "id": "qYsXC3Rlbhw7"
   },
   "source": [
    "### 1. Normalize the location field of *Users* dataset, splitting into city, region, country."
   ]
  },
  {
   "cell_type": "markdown",
   "metadata": {
    "id": "WWVd8oAubhw7"
   },
   "source": [
    "Verifichiamo di che tipo sia ogni valore:"
   ]
  },
  {
   "cell_type": "code",
   "execution_count": 7,
   "metadata": {
    "id": "j6RCnrBNbhw7",
    "outputId": "ed19e8c7-27fd-48b9-c0f3-ffc0dead1c85"
   },
   "outputs": [
    {
     "data": {
      "text/plain": [
       "str"
      ]
     },
     "execution_count": 7,
     "metadata": {},
     "output_type": "execute_result"
    }
   ],
   "source": [
    "type(users['Location'][0])"
   ]
  },
  {
   "cell_type": "markdown",
   "metadata": {
    "id": "JTXOihbNbhw7"
   },
   "source": [
    "Si tratta di stringhe, perciò per dividere i campi si può utilizzare uno split."
   ]
  },
  {
   "cell_type": "markdown",
   "metadata": {
    "id": "qfKfN3labhw8"
   },
   "source": [
    "Verifichiamo che per tutte le righe vi siano le tre informazioni necessarie:"
   ]
  },
  {
   "cell_type": "code",
   "execution_count": 8,
   "metadata": {
    "id": "tEZvD6Thbhw8",
    "outputId": "644124ba-fa80-4d5a-8296-fc3d743309dc"
   },
   "outputs": [
    {
     "name": "stdout",
     "output_type": "stream",
     "text": [
      "Righe con 1 elemento in Location: 1\n",
      "Righe con 2 elementi in Location: 1\n",
      "Righe con 3 elementi in Location: 277348\n",
      "Righe con 4 elementi in Location: 1417\n",
      "Righe con 5 elementi in Location: 72\n",
      "Righe con 6 elementi in Location: 11\n",
      "Righe con 7 elementi in Location: 4\n",
      "Righe con 8 elementi in Location: 2\n",
      "Righe con 9 elementi in Location: 2\n",
      "Righe con 0, 10 o più elementi in Location: 0\n"
     ]
    }
   ],
   "source": [
    "cont = np.zeros(10, dtype=int)\n",
    "\n",
    "for i, row in users.iterrows():\n",
    "    lung = len(row['Location'].split(','))\n",
    "    if lung == 1:\n",
    "        cont[0] += 1\n",
    "    elif lung == 2:\n",
    "        cont[1] += 1\n",
    "    elif lung == 3:\n",
    "        cont[2] += 1\n",
    "    elif lung == 4:\n",
    "        cont[3] += 1\n",
    "    elif lung == 5:\n",
    "        cont[4] += 1\n",
    "    elif lung == 6:\n",
    "        cont[5] += 1\n",
    "    elif lung == 7:\n",
    "        cont[6] += 1\n",
    "    elif lung == 8:\n",
    "        cont[7] += 1\n",
    "    elif lung == 9:\n",
    "        cont[8] += 1\n",
    "    else:\n",
    "        cont[9] += 1\n",
    "        \n",
    "for i in range(0,10):\n",
    "    if i == 0:\n",
    "        print('Righe con', i+1, 'elemento in Location:', cont[i])\n",
    "    elif i == 9:\n",
    "        print('Righe con 0, 10 o più elementi in Location:', cont[i])\n",
    "    else:\n",
    "        print('Righe con', i+1, 'elementi in Location:', cont[i])"
   ]
  },
  {
   "cell_type": "markdown",
   "metadata": {
    "id": "hpBC4rnwbhw8"
   },
   "source": [
    "Il totale delle righe che non hanno l'esatto numero di elementi che ci servono sono"
   ]
  },
  {
   "cell_type": "code",
   "execution_count": 9,
   "metadata": {
    "id": "48T4zma1bhw9"
   },
   "outputs": [
    {
     "data": {
      "text/plain": [
       "1510"
      ]
     },
     "execution_count": 9,
     "metadata": {},
     "output_type": "execute_result"
    }
   ],
   "source": [
    "sbagliati = sum(cont)-cont[2]\n",
    "sbagliati"
   ]
  },
  {
   "cell_type": "markdown",
   "metadata": {
    "id": "XTsoqtZKbhw9"
   },
   "source": [
    "Il numero totale di righe della tabella _users_ è"
   ]
  },
  {
   "cell_type": "code",
   "execution_count": 10,
   "metadata": {
    "id": "Ifkq3W3Gbhw9"
   },
   "outputs": [
    {
     "data": {
      "text/plain": [
       "278858"
      ]
     },
     "execution_count": 10,
     "metadata": {},
     "output_type": "execute_result"
    }
   ],
   "source": [
    "totale = users.shape[0]\n",
    "totale"
   ]
  },
  {
   "cell_type": "markdown",
   "metadata": {
    "id": "5JlZPYZBbhw9"
   },
   "source": [
    "Perciò la percentuale di righe con informazioni mancanti o inesatte è del"
   ]
  },
  {
   "cell_type": "code",
   "execution_count": 11,
   "metadata": {
    "id": "gXPVEHtvbhw-",
    "outputId": "21f9a7e8-6ed9-49eb-f9c5-33ef076be12e"
   },
   "outputs": [
    {
     "name": "stdout",
     "output_type": "stream",
     "text": [
      "0.54 %\n"
     ]
    }
   ],
   "source": [
    "print(round(sbagliati/totale*100, 2),'%')"
   ]
  },
  {
   "cell_type": "markdown",
   "metadata": {
    "id": "3PbJAj1Ibhw-"
   },
   "source": [
    "Osserviamo nello specifico alcune di queste osservazioni:"
   ]
  },
  {
   "cell_type": "code",
   "execution_count": 12,
   "metadata": {
    "id": "eEaNo319bhw-",
    "outputId": "2dc956c5-bc77-499a-c1ec-79db4e37d63c"
   },
   "outputs": [
    {
     "name": "stdout",
     "output_type": "stream",
     "text": [
      "birmingham, alabama, alabama, usa\n",
      "nanaimo, bc, v9v 1h4, british columbia, canada\n",
      "mayfield, sussex (haha, you listed stroud!), united kingdom\n",
      "bombay, maharashtra, heard of it? :o), india\n"
     ]
    }
   ],
   "source": [
    "print(users.loc[6117]['Location'])\n",
    "print(users.loc[12512]['Location'])\n",
    "print(users.loc[6457]['Location'])\n",
    "print(users.loc[3924]['Location'])"
   ]
  },
  {
   "cell_type": "markdown",
   "metadata": {
    "id": "UV7RoJhVbhw-"
   },
   "source": [
    "Alcune presentano valori ripetuti, senza significato o addirittura commenti personali.\n",
    "\n",
    "Decidiamo pertanto di eliminare tali osservazioni dal dataset, poiché ne rappresentano una piccola percentuale e poiché potrebbero essere portatrici di informazioni errate o superflue. "
   ]
  },
  {
   "cell_type": "code",
   "execution_count": 13,
   "metadata": {
    "id": "hLBAiZsMbhw_",
    "outputId": "10781798-a65c-4597-d44d-cf6f8b28daa6"
   },
   "outputs": [
    {
     "data": {
      "text/plain": [
       "277348"
      ]
     },
     "execution_count": 13,
     "metadata": {},
     "output_type": "execute_result"
    }
   ],
   "source": [
    "indici = []\n",
    "for i, row in users.iterrows():\n",
    "    lung = len(row['Location'].split(','))\n",
    "    if lung != 3:\n",
    "        indici.append(i)\n",
    "        \n",
    "users = users.drop(indici, axis=0)\n",
    "len(users)"
   ]
  },
  {
   "cell_type": "markdown",
   "metadata": {
    "id": "K1Ao-UwGbhw_"
   },
   "source": [
    "Dunque il numero di osservazioni che consideriamo è 277348 e con queste possiamo ricavare le tre colonne richieste: _city, region_ e _country_."
   ]
  },
  {
   "cell_type": "code",
   "execution_count": 14,
   "metadata": {
    "id": "1FQU2w8vbhw_"
   },
   "outputs": [],
   "source": [
    "users['city'] = users['Location'].str.split(expand=True, pat=',')[0]\n",
    "users['region'] = users['Location'].str.split(expand=True, pat=',')[1]\n",
    "users['country'] = users['Location'].str.split(expand=True, pat=',')[2]"
   ]
  },
  {
   "cell_type": "code",
   "execution_count": 15,
   "metadata": {
    "id": "zaw9Icssbhw_",
    "outputId": "5246316a-e5a3-4cac-ccf8-e249d0ccea2c"
   },
   "outputs": [
    {
     "data": {
      "text/html": [
       "<div>\n",
       "<style scoped>\n",
       "    .dataframe tbody tr th:only-of-type {\n",
       "        vertical-align: middle;\n",
       "    }\n",
       "\n",
       "    .dataframe tbody tr th {\n",
       "        vertical-align: top;\n",
       "    }\n",
       "\n",
       "    .dataframe thead th {\n",
       "        text-align: right;\n",
       "    }\n",
       "</style>\n",
       "<table border=\"1\" class=\"dataframe\">\n",
       "  <thead>\n",
       "    <tr style=\"text-align: right;\">\n",
       "      <th></th>\n",
       "      <th>User-ID</th>\n",
       "      <th>Location</th>\n",
       "      <th>Age</th>\n",
       "      <th>city</th>\n",
       "      <th>region</th>\n",
       "      <th>country</th>\n",
       "    </tr>\n",
       "  </thead>\n",
       "  <tbody>\n",
       "    <tr>\n",
       "      <th>0</th>\n",
       "      <td>1</td>\n",
       "      <td>nyc, new york, usa</td>\n",
       "      <td>NaN</td>\n",
       "      <td>nyc</td>\n",
       "      <td>new york</td>\n",
       "      <td>usa</td>\n",
       "    </tr>\n",
       "    <tr>\n",
       "      <th>1</th>\n",
       "      <td>2</td>\n",
       "      <td>stockton, california, usa</td>\n",
       "      <td>18.0</td>\n",
       "      <td>stockton</td>\n",
       "      <td>california</td>\n",
       "      <td>usa</td>\n",
       "    </tr>\n",
       "    <tr>\n",
       "      <th>2</th>\n",
       "      <td>3</td>\n",
       "      <td>moscow, yukon territory, russia</td>\n",
       "      <td>NaN</td>\n",
       "      <td>moscow</td>\n",
       "      <td>yukon territory</td>\n",
       "      <td>russia</td>\n",
       "    </tr>\n",
       "    <tr>\n",
       "      <th>3</th>\n",
       "      <td>4</td>\n",
       "      <td>porto, v.n.gaia, portugal</td>\n",
       "      <td>17.0</td>\n",
       "      <td>porto</td>\n",
       "      <td>v.n.gaia</td>\n",
       "      <td>portugal</td>\n",
       "    </tr>\n",
       "    <tr>\n",
       "      <th>4</th>\n",
       "      <td>5</td>\n",
       "      <td>farnborough, hants, united kingdom</td>\n",
       "      <td>NaN</td>\n",
       "      <td>farnborough</td>\n",
       "      <td>hants</td>\n",
       "      <td>united kingdom</td>\n",
       "    </tr>\n",
       "  </tbody>\n",
       "</table>\n",
       "</div>"
      ],
      "text/plain": [
       "   User-ID                            Location   Age         city  \\\n",
       "0        1                  nyc, new york, usa   NaN          nyc   \n",
       "1        2           stockton, california, usa  18.0     stockton   \n",
       "2        3     moscow, yukon territory, russia   NaN       moscow   \n",
       "3        4           porto, v.n.gaia, portugal  17.0        porto   \n",
       "4        5  farnborough, hants, united kingdom   NaN  farnborough   \n",
       "\n",
       "             region          country  \n",
       "0          new york              usa  \n",
       "1        california              usa  \n",
       "2   yukon territory           russia  \n",
       "3          v.n.gaia         portugal  \n",
       "4             hants   united kingdom  "
      ]
     },
     "execution_count": 15,
     "metadata": {},
     "output_type": "execute_result"
    }
   ],
   "source": [
    "users.head()"
   ]
  },
  {
   "cell_type": "markdown",
   "metadata": {
    "id": "VMfRhh9Hbhw_"
   },
   "source": [
    "L'operazione è andata a buon fine."
   ]
  },
  {
   "cell_type": "markdown",
   "metadata": {
    "id": "S3O5PryAbhw_"
   },
   "source": [
    "### 2. For each book in the *Books* dataset, compute its average rating."
   ]
  },
  {
   "cell_type": "code",
   "execution_count": 16,
   "metadata": {
    "id": "HSFyF_bGbhw_",
    "outputId": "f89f27b5-ab33-4c6e-9665-c269451acc4d"
   },
   "outputs": [
    {
     "data": {
      "text/plain": [
       "Index(['ISBN', 'Book-Title', 'Book-Author', 'Year-Of-Publication', 'Publisher',\n",
       "       'Image-URL-S', 'Image-URL-M', 'Image-URL-L'],\n",
       "      dtype='object')"
      ]
     },
     "execution_count": 16,
     "metadata": {},
     "output_type": "execute_result"
    }
   ],
   "source": [
    "books.columns"
   ]
  },
  {
   "cell_type": "code",
   "execution_count": 17,
   "metadata": {
    "id": "jiRndMClbhw_",
    "outputId": "bc604266-159f-453f-b313-6ab5ffb0c94a"
   },
   "outputs": [
    {
     "data": {
      "text/plain": [
       "Index(['User-ID', 'ISBN', 'Book-Rating'], dtype='object')"
      ]
     },
     "execution_count": 17,
     "metadata": {},
     "output_type": "execute_result"
    }
   ],
   "source": [
    "book_rat.columns"
   ]
  },
  {
   "cell_type": "markdown",
   "metadata": {
    "id": "ulEsa1fWbhxA"
   },
   "source": [
    "Calcoliamo l'_average rating_ per ciascun libro della tabella _book_rat_ e poi operiamo un merge del risultato con la tabella _books_."
   ]
  },
  {
   "cell_type": "code",
   "execution_count": 18,
   "metadata": {
    "id": "ixVEU9DCbhxA",
    "outputId": "008d6952-6b54-4c4d-80c7-61dae6a26597"
   },
   "outputs": [
    {
     "data": {
      "text/plain": [
       "ISBN\n",
       " 0330299891    3.0\n",
       " 0375404120    1.5\n",
       " 0586045007    0.0\n",
       " 9022906116    3.5\n",
       " 9032803328    0.0\n",
       "Name: Book-Rating, dtype: float64"
      ]
     },
     "execution_count": 18,
     "metadata": {},
     "output_type": "execute_result"
    }
   ],
   "source": [
    "ave_rat = book_rat.groupby(['ISBN'])['Book-Rating'].mean()\n",
    "ave_rat.head()"
   ]
  },
  {
   "cell_type": "code",
   "execution_count": 19,
   "metadata": {
    "id": "KobEPxHtbhxA",
    "outputId": "0f55bda3-d6c1-4bf0-cbfa-a636606c64bb",
    "scrolled": true
   },
   "outputs": [
    {
     "data": {
      "text/html": [
       "<div>\n",
       "<style scoped>\n",
       "    .dataframe tbody tr th:only-of-type {\n",
       "        vertical-align: middle;\n",
       "    }\n",
       "\n",
       "    .dataframe tbody tr th {\n",
       "        vertical-align: top;\n",
       "    }\n",
       "\n",
       "    .dataframe thead th {\n",
       "        text-align: right;\n",
       "    }\n",
       "</style>\n",
       "<table border=\"1\" class=\"dataframe\">\n",
       "  <thead>\n",
       "    <tr style=\"text-align: right;\">\n",
       "      <th></th>\n",
       "      <th>ISBN</th>\n",
       "      <th>Book-Title</th>\n",
       "      <th>Average-Rating</th>\n",
       "    </tr>\n",
       "  </thead>\n",
       "  <tbody>\n",
       "    <tr>\n",
       "      <th>0</th>\n",
       "      <td>0195153448</td>\n",
       "      <td>Classical Mythology</td>\n",
       "      <td>0.000000</td>\n",
       "    </tr>\n",
       "    <tr>\n",
       "      <th>1</th>\n",
       "      <td>0002005018</td>\n",
       "      <td>Clara Callan</td>\n",
       "      <td>4.928571</td>\n",
       "    </tr>\n",
       "    <tr>\n",
       "      <th>2</th>\n",
       "      <td>0060973129</td>\n",
       "      <td>Decision in Normandy</td>\n",
       "      <td>5.000000</td>\n",
       "    </tr>\n",
       "    <tr>\n",
       "      <th>3</th>\n",
       "      <td>0374157065</td>\n",
       "      <td>Flu: The Story of the Great Influenza Pandemic...</td>\n",
       "      <td>4.272727</td>\n",
       "    </tr>\n",
       "    <tr>\n",
       "      <th>4</th>\n",
       "      <td>0393045218</td>\n",
       "      <td>The Mummies of Urumchi</td>\n",
       "      <td>0.000000</td>\n",
       "    </tr>\n",
       "  </tbody>\n",
       "</table>\n",
       "</div>"
      ],
      "text/plain": [
       "         ISBN                                         Book-Title  \\\n",
       "0  0195153448                                Classical Mythology   \n",
       "1  0002005018                                       Clara Callan   \n",
       "2  0060973129                               Decision in Normandy   \n",
       "3  0374157065  Flu: The Story of the Great Influenza Pandemic...   \n",
       "4  0393045218                             The Mummies of Urumchi   \n",
       "\n",
       "   Average-Rating  \n",
       "0        0.000000  \n",
       "1        4.928571  \n",
       "2        5.000000  \n",
       "3        4.272727  \n",
       "4        0.000000  "
      ]
     },
     "execution_count": 19,
     "metadata": {},
     "output_type": "execute_result"
    }
   ],
   "source": [
    "books = pd.merge(books, ave_rat, on = 'ISBN')\n",
    "books.rename({'Book-Rating': 'Average-Rating'}, axis = 'columns', inplace = True)\n",
    "books[['ISBN', 'Book-Title', 'Average-Rating']].head()"
   ]
  },
  {
   "cell_type": "markdown",
   "metadata": {
    "id": "BYThrQombhxA"
   },
   "source": [
    "### 3. For each book in the *GoodBooks* dataset, compute its average rating."
   ]
  },
  {
   "cell_type": "markdown",
   "metadata": {
    "id": "WMHXHQ_9bhxA"
   },
   "source": [
    "Osserviamo i nomi di tutte le colonne del dataframe in questione:"
   ]
  },
  {
   "cell_type": "code",
   "execution_count": 20,
   "metadata": {
    "id": "MOMyUJ4bbhxA",
    "outputId": "dcd407f7-89f7-4f44-dde9-8fbf2765f270"
   },
   "outputs": [
    {
     "data": {
      "text/plain": [
       "Index(['book_id', 'goodreads_book_id', 'best_book_id', 'work_id',\n",
       "       'books_count', 'isbn', 'isbn13', 'authors', 'original_publication_year',\n",
       "       'original_title', 'title', 'language_code', 'average_rating',\n",
       "       'ratings_count', 'work_ratings_count', 'work_text_reviews_count',\n",
       "       'ratings_1', 'ratings_2', 'ratings_3', 'ratings_4', 'ratings_5',\n",
       "       'image_url', 'small_image_url'],\n",
       "      dtype='object')"
      ]
     },
     "execution_count": 20,
     "metadata": {},
     "output_type": "execute_result"
    }
   ],
   "source": [
    "good_book.columns"
   ]
  },
  {
   "cell_type": "markdown",
   "metadata": {
    "id": "NFr-0-6vbhxA"
   },
   "source": [
    "Notiamo che vi è già una colonna _average_rating,_ tuttavia proviamo a calcolare la media per verificare se i valori coincidono.\n",
    "\n",
    "Consideriamo ad esempio gli elementi della riga con indice 0, sommiamo i valori delle colonne _ratings_1, ratings_2, ratings_3, ratings_4_ e _ratings_5_ per capire se come denominatore per la media debba essere utilizzato l'attributo _ratings_count_ oppure _work_ratings_count_."
   ]
  },
  {
   "cell_type": "code",
   "execution_count": 21,
   "metadata": {
    "id": "3k9eAacDbhxA",
    "outputId": "220cf24c-f821-4436-97f4-b8095a3819ab"
   },
   "outputs": [
    {
     "name": "stdout",
     "output_type": "stream",
     "text": [
      "Somma dei ratings:  4942365\n",
      "Ratings count:  4780653\n",
      "Work ratings count:  4942365\n"
     ]
    }
   ],
   "source": [
    "print('Somma dei ratings: ', good_book['ratings_1'][0] + good_book['ratings_2'][0] + good_book['ratings_3'][0] + good_book['ratings_4'][0] + good_book['ratings_5'][0]) \n",
    "print('Ratings count: ', good_book['ratings_count'][0])\n",
    "print('Work ratings count: ', good_book['work_ratings_count'][0])"
   ]
  },
  {
   "cell_type": "markdown",
   "metadata": {
    "id": "rFUbeLHubhxB"
   },
   "source": [
    "Capiamo che la somma delle 5 colonne di ratings è contenuta in _work_ratings_count_.\n",
    "\n",
    "Calcoliamo dunque la media:"
   ]
  },
  {
   "cell_type": "code",
   "execution_count": 22,
   "metadata": {
    "id": "f-KzwqBGbhxB"
   },
   "outputs": [],
   "source": [
    "good_book['media'] = (good_book['ratings_1'] + good_book['ratings_2']*2 + good_book['ratings_3']*3 + good_book['ratings_4']*4 +good_book['ratings_5']*5)/good_book['work_ratings_count']\n",
    "good_book['media'] = round(good_book['media'], ndigits=2)"
   ]
  },
  {
   "cell_type": "code",
   "execution_count": 23,
   "metadata": {
    "id": "_xHiNc3DbhxB",
    "outputId": "fa2a6591-7053-4dc1-98a4-638e6b56eb46"
   },
   "outputs": [
    {
     "data": {
      "text/html": [
       "<div>\n",
       "<style scoped>\n",
       "    .dataframe tbody tr th:only-of-type {\n",
       "        vertical-align: middle;\n",
       "    }\n",
       "\n",
       "    .dataframe tbody tr th {\n",
       "        vertical-align: top;\n",
       "    }\n",
       "\n",
       "    .dataframe thead th {\n",
       "        text-align: right;\n",
       "    }\n",
       "</style>\n",
       "<table border=\"1\" class=\"dataframe\">\n",
       "  <thead>\n",
       "    <tr style=\"text-align: right;\">\n",
       "      <th></th>\n",
       "      <th>isbn</th>\n",
       "      <th>original_title</th>\n",
       "      <th>media</th>\n",
       "      <th>average_rating</th>\n",
       "    </tr>\n",
       "  </thead>\n",
       "  <tbody>\n",
       "    <tr>\n",
       "      <th>0</th>\n",
       "      <td>439023483</td>\n",
       "      <td>The Hunger Games</td>\n",
       "      <td>4.34</td>\n",
       "      <td>4.34</td>\n",
       "    </tr>\n",
       "    <tr>\n",
       "      <th>1</th>\n",
       "      <td>439554934</td>\n",
       "      <td>Harry Potter and the Philosopher's Stone</td>\n",
       "      <td>4.44</td>\n",
       "      <td>4.44</td>\n",
       "    </tr>\n",
       "    <tr>\n",
       "      <th>2</th>\n",
       "      <td>316015849</td>\n",
       "      <td>Twilight</td>\n",
       "      <td>3.57</td>\n",
       "      <td>3.57</td>\n",
       "    </tr>\n",
       "    <tr>\n",
       "      <th>3</th>\n",
       "      <td>61120081</td>\n",
       "      <td>To Kill a Mockingbird</td>\n",
       "      <td>4.25</td>\n",
       "      <td>4.25</td>\n",
       "    </tr>\n",
       "    <tr>\n",
       "      <th>4</th>\n",
       "      <td>743273567</td>\n",
       "      <td>The Great Gatsby</td>\n",
       "      <td>3.89</td>\n",
       "      <td>3.89</td>\n",
       "    </tr>\n",
       "    <tr>\n",
       "      <th>...</th>\n",
       "      <td>...</td>\n",
       "      <td>...</td>\n",
       "      <td>...</td>\n",
       "      <td>...</td>\n",
       "    </tr>\n",
       "    <tr>\n",
       "      <th>94</th>\n",
       "      <td>375751513</td>\n",
       "      <td>The Picture of Dorian Gray</td>\n",
       "      <td>4.06</td>\n",
       "      <td>4.06</td>\n",
       "    </tr>\n",
       "    <tr>\n",
       "      <th>95</th>\n",
       "      <td>345803507</td>\n",
       "      <td>Fifty Shades Freed</td>\n",
       "      <td>3.88</td>\n",
       "      <td>3.88</td>\n",
       "    </tr>\n",
       "    <tr>\n",
       "      <th>96</th>\n",
       "      <td>393970124</td>\n",
       "      <td>Dracula</td>\n",
       "      <td>3.98</td>\n",
       "      <td>3.98</td>\n",
       "    </tr>\n",
       "    <tr>\n",
       "      <th>97</th>\n",
       "      <td>307269981</td>\n",
       "      <td>Flickan som lekte med elden</td>\n",
       "      <td>4.22</td>\n",
       "      <td>4.22</td>\n",
       "    </tr>\n",
       "    <tr>\n",
       "      <th>98</th>\n",
       "      <td>1612130585</td>\n",
       "      <td>Fifty Shades Darker</td>\n",
       "      <td>3.87</td>\n",
       "      <td>3.87</td>\n",
       "    </tr>\n",
       "  </tbody>\n",
       "</table>\n",
       "<p>99 rows × 4 columns</p>\n",
       "</div>"
      ],
      "text/plain": [
       "          isbn                            original_title  media  \\\n",
       "0    439023483                          The Hunger Games   4.34   \n",
       "1    439554934  Harry Potter and the Philosopher's Stone   4.44   \n",
       "2    316015849                                  Twilight   3.57   \n",
       "3     61120081                     To Kill a Mockingbird   4.25   \n",
       "4    743273567                          The Great Gatsby   3.89   \n",
       "..         ...                                       ...    ...   \n",
       "94   375751513                The Picture of Dorian Gray   4.06   \n",
       "95   345803507                        Fifty Shades Freed   3.88   \n",
       "96   393970124                                   Dracula   3.98   \n",
       "97   307269981               Flickan som lekte med elden   4.22   \n",
       "98  1612130585                       Fifty Shades Darker   3.87   \n",
       "\n",
       "    average_rating  \n",
       "0             4.34  \n",
       "1             4.44  \n",
       "2             3.57  \n",
       "3             4.25  \n",
       "4             3.89  \n",
       "..             ...  \n",
       "94            4.06  \n",
       "95            3.88  \n",
       "96            3.98  \n",
       "97            4.22  \n",
       "98            3.87  \n",
       "\n",
       "[99 rows x 4 columns]"
      ]
     },
     "execution_count": 23,
     "metadata": {},
     "output_type": "execute_result"
    }
   ],
   "source": [
    "good_book[['isbn', 'original_title', 'media', 'average_rating']]"
   ]
  },
  {
   "cell_type": "markdown",
   "metadata": {
    "id": "JYq_n2RdbhxB"
   },
   "source": [
    "Effettivamente i valori del nostro calcolo, _media,_ e della colonna _average_rating_ coincidono."
   ]
  },
  {
   "cell_type": "markdown",
   "metadata": {
    "id": "UQlfob8MbhxB"
   },
   "source": [
    "### 4. Merge together all rows sharing the same book title, author and publisher. We will call the resulting datset `merged books`. The books that have not been merged together will not appear in `merged books`."
   ]
  },
  {
   "cell_type": "markdown",
   "metadata": {
    "id": "oEkYRO1zbhxB"
   },
   "source": [
    "Con l'opzione _count_ otteniamo l'informazione circa quante osservazioni siamo state accorpate in ciascun gruppo di chiave _(Book-Title, Book-Author, Publisher)_."
   ]
  },
  {
   "cell_type": "code",
   "execution_count": 24,
   "metadata": {
    "id": "391klfIDbhxB",
    "outputId": "accbd7e6-579b-4f1b-8b38-91acdd27d6f9"
   },
   "outputs": [
    {
     "name": "stdout",
     "output_type": "stream",
     "text": [
      "264961\n"
     ]
    },
    {
     "data": {
      "text/html": [
       "<div>\n",
       "<style scoped>\n",
       "    .dataframe tbody tr th:only-of-type {\n",
       "        vertical-align: middle;\n",
       "    }\n",
       "\n",
       "    .dataframe tbody tr th {\n",
       "        vertical-align: top;\n",
       "    }\n",
       "\n",
       "    .dataframe thead th {\n",
       "        text-align: right;\n",
       "    }\n",
       "</style>\n",
       "<table border=\"1\" class=\"dataframe\">\n",
       "  <thead>\n",
       "    <tr style=\"text-align: right;\">\n",
       "      <th></th>\n",
       "      <th>Book-Title</th>\n",
       "      <th>Book-Author</th>\n",
       "      <th>Publisher</th>\n",
       "      <th>ISBN</th>\n",
       "      <th>Year-Of-Publication</th>\n",
       "      <th>Image-URL-S</th>\n",
       "      <th>Image-URL-M</th>\n",
       "      <th>Image-URL-L</th>\n",
       "      <th>Average-Rating</th>\n",
       "    </tr>\n",
       "  </thead>\n",
       "  <tbody>\n",
       "    <tr>\n",
       "      <th>0</th>\n",
       "      <td>A Light in the Storm: The Civil War Diary of ...</td>\n",
       "      <td>Karen Hesse</td>\n",
       "      <td>Hyperion Books for Children</td>\n",
       "      <td>1</td>\n",
       "      <td>1</td>\n",
       "      <td>1</td>\n",
       "      <td>1</td>\n",
       "      <td>1</td>\n",
       "      <td>1</td>\n",
       "    </tr>\n",
       "    <tr>\n",
       "      <th>1</th>\n",
       "      <td>Always Have Popsicles</td>\n",
       "      <td>Rebecca Harvin</td>\n",
       "      <td>Rebecca L. Harvin</td>\n",
       "      <td>1</td>\n",
       "      <td>1</td>\n",
       "      <td>1</td>\n",
       "      <td>1</td>\n",
       "      <td>1</td>\n",
       "      <td>1</td>\n",
       "    </tr>\n",
       "    <tr>\n",
       "      <th>2</th>\n",
       "      <td>Apple Magic (The Collector's series)</td>\n",
       "      <td>Martina Boudreau</td>\n",
       "      <td>Amer Cooking Guild</td>\n",
       "      <td>1</td>\n",
       "      <td>1</td>\n",
       "      <td>1</td>\n",
       "      <td>1</td>\n",
       "      <td>1</td>\n",
       "      <td>1</td>\n",
       "    </tr>\n",
       "    <tr>\n",
       "      <th>3</th>\n",
       "      <td>Ask Lily (Young Women of Faith: Lily Series, ...</td>\n",
       "      <td>Nancy N. Rue</td>\n",
       "      <td>Zonderkidz</td>\n",
       "      <td>1</td>\n",
       "      <td>1</td>\n",
       "      <td>1</td>\n",
       "      <td>1</td>\n",
       "      <td>1</td>\n",
       "      <td>1</td>\n",
       "    </tr>\n",
       "    <tr>\n",
       "      <th>4</th>\n",
       "      <td>Beyond IBM: Leadership Marketing and Finance ...</td>\n",
       "      <td>Lou Mobley</td>\n",
       "      <td>Teleonet, Incorporated</td>\n",
       "      <td>1</td>\n",
       "      <td>1</td>\n",
       "      <td>1</td>\n",
       "      <td>1</td>\n",
       "      <td>1</td>\n",
       "      <td>1</td>\n",
       "    </tr>\n",
       "  </tbody>\n",
       "</table>\n",
       "</div>"
      ],
      "text/plain": [
       "                                          Book-Title       Book-Author  \\\n",
       "0   A Light in the Storm: The Civil War Diary of ...       Karen Hesse   \n",
       "1                              Always Have Popsicles    Rebecca Harvin   \n",
       "2               Apple Magic (The Collector's series)  Martina Boudreau   \n",
       "3   Ask Lily (Young Women of Faith: Lily Series, ...      Nancy N. Rue   \n",
       "4   Beyond IBM: Leadership Marketing and Finance ...        Lou Mobley   \n",
       "\n",
       "                     Publisher  ISBN  Year-Of-Publication  Image-URL-S  \\\n",
       "0  Hyperion Books for Children     1                    1            1   \n",
       "1            Rebecca L. Harvin     1                    1            1   \n",
       "2           Amer Cooking Guild     1                    1            1   \n",
       "3                   Zonderkidz     1                    1            1   \n",
       "4       Teleonet, Incorporated     1                    1            1   \n",
       "\n",
       "   Image-URL-M  Image-URL-L  Average-Rating  \n",
       "0            1            1               1  \n",
       "1            1            1               1  \n",
       "2            1            1               1  \n",
       "3            1            1               1  \n",
       "4            1            1               1  "
      ]
     },
     "execution_count": 24,
     "metadata": {},
     "output_type": "execute_result"
    }
   ],
   "source": [
    "merged_books = books.groupby(by=[\"Book-Title\", \"Book-Author\", \"Publisher\"], as_index=False).count()\n",
    "print(len(merged_books))\n",
    "merged_books.head()"
   ]
  },
  {
   "cell_type": "code",
   "execution_count": 25,
   "metadata": {
    "id": "sZSZhaPsbhxB",
    "outputId": "2ce52e9e-75c8-4da4-e90f-ba4177b90b1f"
   },
   "outputs": [
    {
     "name": "stdout",
     "output_type": "stream",
     "text": [
      "4686\n"
     ]
    },
    {
     "data": {
      "text/html": [
       "<div>\n",
       "<style scoped>\n",
       "    .dataframe tbody tr th:only-of-type {\n",
       "        vertical-align: middle;\n",
       "    }\n",
       "\n",
       "    .dataframe tbody tr th {\n",
       "        vertical-align: top;\n",
       "    }\n",
       "\n",
       "    .dataframe thead th {\n",
       "        text-align: right;\n",
       "    }\n",
       "</style>\n",
       "<table border=\"1\" class=\"dataframe\">\n",
       "  <thead>\n",
       "    <tr style=\"text-align: right;\">\n",
       "      <th></th>\n",
       "      <th>Book-Title</th>\n",
       "      <th>Book-Author</th>\n",
       "      <th>Publisher</th>\n",
       "      <th>ISBN</th>\n",
       "      <th>Year-Of-Publication</th>\n",
       "      <th>Image-URL-S</th>\n",
       "      <th>Image-URL-M</th>\n",
       "      <th>Image-URL-L</th>\n",
       "      <th>Average-Rating</th>\n",
       "    </tr>\n",
       "  </thead>\n",
       "  <tbody>\n",
       "    <tr>\n",
       "      <th>41</th>\n",
       "      <td>!%@ (A Nutshell handbook)</td>\n",
       "      <td>Donnalyn Frey</td>\n",
       "      <td>O'Reilly</td>\n",
       "      <td>2</td>\n",
       "      <td>2</td>\n",
       "      <td>2</td>\n",
       "      <td>2</td>\n",
       "      <td>2</td>\n",
       "      <td>2</td>\n",
       "    </tr>\n",
       "    <tr>\n",
       "      <th>58</th>\n",
       "      <td>'A Hell of a Place to Lose a Cow': An American...</td>\n",
       "      <td>Tim Brookes</td>\n",
       "      <td>National Geographic</td>\n",
       "      <td>2</td>\n",
       "      <td>2</td>\n",
       "      <td>2</td>\n",
       "      <td>2</td>\n",
       "      <td>2</td>\n",
       "      <td>2</td>\n",
       "    </tr>\n",
       "    <tr>\n",
       "      <th>252</th>\n",
       "      <td>10,000 dreams interpreted: A dictionary of dreams</td>\n",
       "      <td>Gustavus Hindman Miller</td>\n",
       "      <td>Barnes &amp;amp; Nobles Books</td>\n",
       "      <td>2</td>\n",
       "      <td>2</td>\n",
       "      <td>2</td>\n",
       "      <td>2</td>\n",
       "      <td>2</td>\n",
       "      <td>2</td>\n",
       "    </tr>\n",
       "    <tr>\n",
       "      <th>461</th>\n",
       "      <td>101 Famous Poems</td>\n",
       "      <td>Roy J. Cook</td>\n",
       "      <td>McGraw-Hill/Contemporary Books</td>\n",
       "      <td>3</td>\n",
       "      <td>3</td>\n",
       "      <td>3</td>\n",
       "      <td>3</td>\n",
       "      <td>3</td>\n",
       "      <td>3</td>\n",
       "    </tr>\n",
       "    <tr>\n",
       "      <th>709</th>\n",
       "      <td>15 Houseplants Even You Can't Kill</td>\n",
       "      <td>Joe Elder</td>\n",
       "      <td>Berkley Pub Group</td>\n",
       "      <td>2</td>\n",
       "      <td>2</td>\n",
       "      <td>2</td>\n",
       "      <td>2</td>\n",
       "      <td>2</td>\n",
       "      <td>2</td>\n",
       "    </tr>\n",
       "  </tbody>\n",
       "</table>\n",
       "</div>"
      ],
      "text/plain": [
       "                                            Book-Title  \\\n",
       "41                           !%@ (A Nutshell handbook)   \n",
       "58   'A Hell of a Place to Lose a Cow': An American...   \n",
       "252  10,000 dreams interpreted: A dictionary of dreams   \n",
       "461                                   101 Famous Poems   \n",
       "709                 15 Houseplants Even You Can't Kill   \n",
       "\n",
       "                 Book-Author                       Publisher  ISBN  \\\n",
       "41             Donnalyn Frey                        O'Reilly     2   \n",
       "58               Tim Brookes             National Geographic     2   \n",
       "252  Gustavus Hindman Miller       Barnes &amp; Nobles Books     2   \n",
       "461              Roy J. Cook  McGraw-Hill/Contemporary Books     3   \n",
       "709                Joe Elder               Berkley Pub Group     2   \n",
       "\n",
       "     Year-Of-Publication  Image-URL-S  Image-URL-M  Image-URL-L  \\\n",
       "41                     2            2            2            2   \n",
       "58                     2            2            2            2   \n",
       "252                    2            2            2            2   \n",
       "461                    3            3            3            3   \n",
       "709                    2            2            2            2   \n",
       "\n",
       "     Average-Rating  \n",
       "41                2  \n",
       "58                2  \n",
       "252               2  \n",
       "461               3  \n",
       "709               2  "
      ]
     },
     "execution_count": 25,
     "metadata": {},
     "output_type": "execute_result"
    }
   ],
   "source": [
    "indici = merged_books[merged_books['ISBN'] == 1 ].index\n",
    "merged_books.drop(indici, inplace=True)\n",
    "print(len(merged_books))\n",
    "merged_books.head()"
   ]
  },
  {
   "cell_type": "markdown",
   "metadata": {
    "id": "C7w5vB8PbhxB"
   },
   "source": [
    "Così abbiamo ottenuto un dataframe contenente solo i 4686 libri che hanno avuto due o più edizioni.\n",
    "\n",
    "Infine, eliminiamo le colonne _ISBN, Year-Of-Publication, Image-URL-S, Image-URL-M, Image-URL-L, Average-Rating,_ poiché esse non risultano essere più informative."
   ]
  },
  {
   "cell_type": "code",
   "execution_count": 26,
   "metadata": {
    "id": "g79GW8ZfbhxB",
    "outputId": "17dcf59a-f284-4ce0-fdd8-244d638c8902"
   },
   "outputs": [
    {
     "data": {
      "text/html": [
       "<div>\n",
       "<style scoped>\n",
       "    .dataframe tbody tr th:only-of-type {\n",
       "        vertical-align: middle;\n",
       "    }\n",
       "\n",
       "    .dataframe tbody tr th {\n",
       "        vertical-align: top;\n",
       "    }\n",
       "\n",
       "    .dataframe thead th {\n",
       "        text-align: right;\n",
       "    }\n",
       "</style>\n",
       "<table border=\"1\" class=\"dataframe\">\n",
       "  <thead>\n",
       "    <tr style=\"text-align: right;\">\n",
       "      <th></th>\n",
       "      <th>Book-Title</th>\n",
       "      <th>Book-Author</th>\n",
       "      <th>Publisher</th>\n",
       "    </tr>\n",
       "  </thead>\n",
       "  <tbody>\n",
       "    <tr>\n",
       "      <th>41</th>\n",
       "      <td>!%@ (A Nutshell handbook)</td>\n",
       "      <td>Donnalyn Frey</td>\n",
       "      <td>O'Reilly</td>\n",
       "    </tr>\n",
       "    <tr>\n",
       "      <th>58</th>\n",
       "      <td>'A Hell of a Place to Lose a Cow': An American...</td>\n",
       "      <td>Tim Brookes</td>\n",
       "      <td>National Geographic</td>\n",
       "    </tr>\n",
       "    <tr>\n",
       "      <th>252</th>\n",
       "      <td>10,000 dreams interpreted: A dictionary of dreams</td>\n",
       "      <td>Gustavus Hindman Miller</td>\n",
       "      <td>Barnes &amp;amp; Nobles Books</td>\n",
       "    </tr>\n",
       "    <tr>\n",
       "      <th>461</th>\n",
       "      <td>101 Famous Poems</td>\n",
       "      <td>Roy J. Cook</td>\n",
       "      <td>McGraw-Hill/Contemporary Books</td>\n",
       "    </tr>\n",
       "    <tr>\n",
       "      <th>709</th>\n",
       "      <td>15 Houseplants Even You Can't Kill</td>\n",
       "      <td>Joe Elder</td>\n",
       "      <td>Berkley Pub Group</td>\n",
       "    </tr>\n",
       "  </tbody>\n",
       "</table>\n",
       "</div>"
      ],
      "text/plain": [
       "                                            Book-Title  \\\n",
       "41                           !%@ (A Nutshell handbook)   \n",
       "58   'A Hell of a Place to Lose a Cow': An American...   \n",
       "252  10,000 dreams interpreted: A dictionary of dreams   \n",
       "461                                   101 Famous Poems   \n",
       "709                 15 Houseplants Even You Can't Kill   \n",
       "\n",
       "                 Book-Author                       Publisher  \n",
       "41             Donnalyn Frey                        O'Reilly  \n",
       "58               Tim Brookes             National Geographic  \n",
       "252  Gustavus Hindman Miller       Barnes &amp; Nobles Books  \n",
       "461              Roy J. Cook  McGraw-Hill/Contemporary Books  \n",
       "709                Joe Elder               Berkley Pub Group  "
      ]
     },
     "execution_count": 26,
     "metadata": {},
     "output_type": "execute_result"
    }
   ],
   "source": [
    "merged_books = merged_books.drop(['ISBN', 'Year-Of-Publication', 'Image-URL-S', 'Image-URL-M', 'Image-URL-L', 'Average-Rating'], axis=1)\n",
    "merged_books.head()"
   ]
  },
  {
   "cell_type": "markdown",
   "metadata": {
    "id": "jvCvkCCubhxB"
   },
   "source": [
    "### 5. For each book in `merged books` compute its average rating.\n",
    "\n",
    "The average is computed considering all books in `books` that have been merged."
   ]
  },
  {
   "cell_type": "code",
   "execution_count": 27,
   "metadata": {
    "id": "JbkN35SQbhxB",
    "outputId": "591bb62a-5017-49ef-ab36-9edd86b60cbf"
   },
   "outputs": [
    {
     "data": {
      "text/plain": [
       "Index(['ISBN', 'Book-Title', 'Book-Author', 'Year-Of-Publication', 'Publisher',\n",
       "       'Image-URL-S', 'Image-URL-M', 'Image-URL-L', 'Average-Rating'],\n",
       "      dtype='object')"
      ]
     },
     "execution_count": 27,
     "metadata": {},
     "output_type": "execute_result"
    }
   ],
   "source": [
    "books.columns"
   ]
  },
  {
   "cell_type": "code",
   "execution_count": 28,
   "metadata": {
    "id": "tMpQ_dzGbhxC",
    "outputId": "9cd08b45-b6f5-498a-bc6d-7ddccca10fa9"
   },
   "outputs": [
    {
     "data": {
      "text/plain": [
       "Index(['Book-Title', 'Book-Author', 'Publisher'], dtype='object')"
      ]
     },
     "execution_count": 28,
     "metadata": {},
     "output_type": "execute_result"
    }
   ],
   "source": [
    "merged_books.columns"
   ]
  },
  {
   "cell_type": "markdown",
   "metadata": {
    "id": "7bxpmluDbhxC"
   },
   "source": [
    "Facciamo un _left join_ tra le tabelle _merged_books_ e _books,_ in modo tale che vengano tenuti tutti i libri che hanno avuto almeno due edizioni, con le informazioni relative a ciascuna edizione in righe diverse del dataframe."
   ]
  },
  {
   "cell_type": "code",
   "execution_count": 29,
   "metadata": {
    "id": "UO9WCRzQbhxC",
    "outputId": "761bf9cf-e459-4b46-daca-e590e650d6a6",
    "scrolled": true
   },
   "outputs": [
    {
     "data": {
      "text/html": [
       "<div>\n",
       "<style scoped>\n",
       "    .dataframe tbody tr th:only-of-type {\n",
       "        vertical-align: middle;\n",
       "    }\n",
       "\n",
       "    .dataframe tbody tr th {\n",
       "        vertical-align: top;\n",
       "    }\n",
       "\n",
       "    .dataframe thead th {\n",
       "        text-align: right;\n",
       "    }\n",
       "</style>\n",
       "<table border=\"1\" class=\"dataframe\">\n",
       "  <thead>\n",
       "    <tr style=\"text-align: right;\">\n",
       "      <th></th>\n",
       "      <th>Book-Title</th>\n",
       "      <th>Book-Author</th>\n",
       "      <th>Publisher</th>\n",
       "      <th>ISBN</th>\n",
       "      <th>Year-Of-Publication</th>\n",
       "      <th>Image-URL-S</th>\n",
       "      <th>Image-URL-M</th>\n",
       "      <th>Image-URL-L</th>\n",
       "      <th>Average-Rating</th>\n",
       "    </tr>\n",
       "  </thead>\n",
       "  <tbody>\n",
       "    <tr>\n",
       "      <th>0</th>\n",
       "      <td>!%@ (A Nutshell handbook)</td>\n",
       "      <td>Donnalyn Frey</td>\n",
       "      <td>O'Reilly</td>\n",
       "      <td>1565920465</td>\n",
       "      <td>1994</td>\n",
       "      <td>http://images.amazon.com/images/P/1565920465.0...</td>\n",
       "      <td>http://images.amazon.com/images/P/1565920465.0...</td>\n",
       "      <td>http://images.amazon.com/images/P/1565920465.0...</td>\n",
       "      <td>0.00</td>\n",
       "    </tr>\n",
       "    <tr>\n",
       "      <th>1</th>\n",
       "      <td>!%@ (A Nutshell handbook)</td>\n",
       "      <td>Donnalyn Frey</td>\n",
       "      <td>O'Reilly</td>\n",
       "      <td>1565920317</td>\n",
       "      <td>1993</td>\n",
       "      <td>http://images.amazon.com/images/P/1565920317.0...</td>\n",
       "      <td>http://images.amazon.com/images/P/1565920317.0...</td>\n",
       "      <td>http://images.amazon.com/images/P/1565920317.0...</td>\n",
       "      <td>6.00</td>\n",
       "    </tr>\n",
       "    <tr>\n",
       "      <th>2</th>\n",
       "      <td>'A Hell of a Place to Lose a Cow': An American...</td>\n",
       "      <td>Tim Brookes</td>\n",
       "      <td>National Geographic</td>\n",
       "      <td>0792276833</td>\n",
       "      <td>2000</td>\n",
       "      <td>http://images.amazon.com/images/P/0792276833.0...</td>\n",
       "      <td>http://images.amazon.com/images/P/0792276833.0...</td>\n",
       "      <td>http://images.amazon.com/images/P/0792276833.0...</td>\n",
       "      <td>0.00</td>\n",
       "    </tr>\n",
       "    <tr>\n",
       "      <th>3</th>\n",
       "      <td>'A Hell of a Place to Lose a Cow': An American...</td>\n",
       "      <td>Tim Brookes</td>\n",
       "      <td>National Geographic</td>\n",
       "      <td>0792277295</td>\n",
       "      <td>2001</td>\n",
       "      <td>http://images.amazon.com/images/P/0792277295.0...</td>\n",
       "      <td>http://images.amazon.com/images/P/0792277295.0...</td>\n",
       "      <td>http://images.amazon.com/images/P/0792277295.0...</td>\n",
       "      <td>3.40</td>\n",
       "    </tr>\n",
       "    <tr>\n",
       "      <th>4</th>\n",
       "      <td>10,000 dreams interpreted: A dictionary of dreams</td>\n",
       "      <td>Gustavus Hindman Miller</td>\n",
       "      <td>Barnes &amp;amp; Nobles Books</td>\n",
       "      <td>1566196256</td>\n",
       "      <td>1995</td>\n",
       "      <td>http://images.amazon.com/images/P/1566196256.0...</td>\n",
       "      <td>http://images.amazon.com/images/P/1566196256.0...</td>\n",
       "      <td>http://images.amazon.com/images/P/1566196256.0...</td>\n",
       "      <td>7.25</td>\n",
       "    </tr>\n",
       "  </tbody>\n",
       "</table>\n",
       "</div>"
      ],
      "text/plain": [
       "                                          Book-Title              Book-Author  \\\n",
       "0                          !%@ (A Nutshell handbook)            Donnalyn Frey   \n",
       "1                          !%@ (A Nutshell handbook)            Donnalyn Frey   \n",
       "2  'A Hell of a Place to Lose a Cow': An American...              Tim Brookes   \n",
       "3  'A Hell of a Place to Lose a Cow': An American...              Tim Brookes   \n",
       "4  10,000 dreams interpreted: A dictionary of dreams  Gustavus Hindman Miller   \n",
       "\n",
       "                   Publisher        ISBN Year-Of-Publication  \\\n",
       "0                   O'Reilly  1565920465                1994   \n",
       "1                   O'Reilly  1565920317                1993   \n",
       "2        National Geographic  0792276833                2000   \n",
       "3        National Geographic  0792277295                2001   \n",
       "4  Barnes &amp; Nobles Books  1566196256                1995   \n",
       "\n",
       "                                         Image-URL-S  \\\n",
       "0  http://images.amazon.com/images/P/1565920465.0...   \n",
       "1  http://images.amazon.com/images/P/1565920317.0...   \n",
       "2  http://images.amazon.com/images/P/0792276833.0...   \n",
       "3  http://images.amazon.com/images/P/0792277295.0...   \n",
       "4  http://images.amazon.com/images/P/1566196256.0...   \n",
       "\n",
       "                                         Image-URL-M  \\\n",
       "0  http://images.amazon.com/images/P/1565920465.0...   \n",
       "1  http://images.amazon.com/images/P/1565920317.0...   \n",
       "2  http://images.amazon.com/images/P/0792276833.0...   \n",
       "3  http://images.amazon.com/images/P/0792277295.0...   \n",
       "4  http://images.amazon.com/images/P/1566196256.0...   \n",
       "\n",
       "                                         Image-URL-L  Average-Rating  \n",
       "0  http://images.amazon.com/images/P/1565920465.0...            0.00  \n",
       "1  http://images.amazon.com/images/P/1565920317.0...            6.00  \n",
       "2  http://images.amazon.com/images/P/0792276833.0...            0.00  \n",
       "3  http://images.amazon.com/images/P/0792277295.0...            3.40  \n",
       "4  http://images.amazon.com/images/P/1566196256.0...            7.25  "
      ]
     },
     "execution_count": 29,
     "metadata": {},
     "output_type": "execute_result"
    }
   ],
   "source": [
    "merged_books2 = merged_books.merge(books, on=['Book-Title', 'Book-Author', 'Publisher'], how='left')\n",
    "merged_books2.head()"
   ]
  },
  {
   "cell_type": "markdown",
   "metadata": {
    "id": "92E5CscxbhxC"
   },
   "source": [
    "Infine, possiamo calcolare l'_Average-Rating_ per le edizioni di ciascun libro."
   ]
  },
  {
   "cell_type": "code",
   "execution_count": 30,
   "metadata": {
    "id": "3lixNaEHbhxC",
    "outputId": "3c3bf4bf-498b-4f76-dfe7-cb4124b4c457"
   },
   "outputs": [
    {
     "data": {
      "text/html": [
       "<div>\n",
       "<style scoped>\n",
       "    .dataframe tbody tr th:only-of-type {\n",
       "        vertical-align: middle;\n",
       "    }\n",
       "\n",
       "    .dataframe tbody tr th {\n",
       "        vertical-align: top;\n",
       "    }\n",
       "\n",
       "    .dataframe thead th {\n",
       "        text-align: right;\n",
       "    }\n",
       "</style>\n",
       "<table border=\"1\" class=\"dataframe\">\n",
       "  <thead>\n",
       "    <tr style=\"text-align: right;\">\n",
       "      <th></th>\n",
       "      <th>Book-Title</th>\n",
       "      <th>Book-Author</th>\n",
       "      <th>Publisher</th>\n",
       "      <th>Average-Rating</th>\n",
       "    </tr>\n",
       "  </thead>\n",
       "  <tbody>\n",
       "    <tr>\n",
       "      <th>0</th>\n",
       "      <td>!%@ (A Nutshell handbook)</td>\n",
       "      <td>Donnalyn Frey</td>\n",
       "      <td>O'Reilly</td>\n",
       "      <td>3.000000</td>\n",
       "    </tr>\n",
       "    <tr>\n",
       "      <th>1</th>\n",
       "      <td>'A Hell of a Place to Lose a Cow': An American...</td>\n",
       "      <td>Tim Brookes</td>\n",
       "      <td>National Geographic</td>\n",
       "      <td>1.700000</td>\n",
       "    </tr>\n",
       "    <tr>\n",
       "      <th>2</th>\n",
       "      <td>10,000 dreams interpreted: A dictionary of dreams</td>\n",
       "      <td>Gustavus Hindman Miller</td>\n",
       "      <td>Barnes &amp;amp; Nobles Books</td>\n",
       "      <td>6.958333</td>\n",
       "    </tr>\n",
       "    <tr>\n",
       "      <th>3</th>\n",
       "      <td>101 Famous Poems</td>\n",
       "      <td>Roy J. Cook</td>\n",
       "      <td>McGraw-Hill/Contemporary Books</td>\n",
       "      <td>3.111111</td>\n",
       "    </tr>\n",
       "    <tr>\n",
       "      <th>4</th>\n",
       "      <td>15 Houseplants Even You Can't Kill</td>\n",
       "      <td>Joe Elder</td>\n",
       "      <td>Berkley Pub Group</td>\n",
       "      <td>0.000000</td>\n",
       "    </tr>\n",
       "  </tbody>\n",
       "</table>\n",
       "</div>"
      ],
      "text/plain": [
       "                                          Book-Title              Book-Author  \\\n",
       "0                          !%@ (A Nutshell handbook)            Donnalyn Frey   \n",
       "1  'A Hell of a Place to Lose a Cow': An American...              Tim Brookes   \n",
       "2  10,000 dreams interpreted: A dictionary of dreams  Gustavus Hindman Miller   \n",
       "3                                   101 Famous Poems              Roy J. Cook   \n",
       "4                 15 Houseplants Even You Can't Kill                Joe Elder   \n",
       "\n",
       "                        Publisher  Average-Rating  \n",
       "0                        O'Reilly        3.000000  \n",
       "1             National Geographic        1.700000  \n",
       "2       Barnes &amp; Nobles Books        6.958333  \n",
       "3  McGraw-Hill/Contemporary Books        3.111111  \n",
       "4               Berkley Pub Group        0.000000  "
      ]
     },
     "execution_count": 30,
     "metadata": {},
     "output_type": "execute_result"
    }
   ],
   "source": [
    "ave_rat = merged_books2.groupby(['Book-Title', 'Book-Author', 'Publisher'])['Average-Rating'].mean()\n",
    "merged_books = pd.merge(merged_books, ave_rat, on=['Book-Title', 'Book-Author', 'Publisher'])\n",
    "merged_books.head()"
   ]
  },
  {
   "cell_type": "markdown",
   "metadata": {
    "id": "8MZzdJDwbhxC"
   },
   "source": [
    "### 6. For each book in `merged books` compute the minimum and maximum of the average ratings over all corresponding books in the `books` dataset.\n",
    "\n",
    "Hence for each book in `merged books` we will have exactly two values (a minimum and a maximum)."
   ]
  },
  {
   "cell_type": "markdown",
   "metadata": {
    "id": "IUH26Ie5bhxC"
   },
   "source": [
    "Utilizziamo la tabella _merged_books2_ che contiene le diverse edizioni di ciascun libro di _merged_books_ e creiamo dei nuovi dataframe, _minimi_ e _massimi,_ che contengono titolo, autore, editore di ciascun libro insieme al valore minimo o massimo dell'_average_rating._"
   ]
  },
  {
   "cell_type": "code",
   "execution_count": 31,
   "metadata": {
    "id": "1FBzjUqTbhxC",
    "outputId": "928769ed-3f75-4d45-ede6-591cc386c8b6"
   },
   "outputs": [
    {
     "data": {
      "text/html": [
       "<div>\n",
       "<style scoped>\n",
       "    .dataframe tbody tr th:only-of-type {\n",
       "        vertical-align: middle;\n",
       "    }\n",
       "\n",
       "    .dataframe tbody tr th {\n",
       "        vertical-align: top;\n",
       "    }\n",
       "\n",
       "    .dataframe thead th {\n",
       "        text-align: right;\n",
       "    }\n",
       "</style>\n",
       "<table border=\"1\" class=\"dataframe\">\n",
       "  <thead>\n",
       "    <tr style=\"text-align: right;\">\n",
       "      <th></th>\n",
       "      <th>Book-Title</th>\n",
       "      <th>Book-Author</th>\n",
       "      <th>Publisher</th>\n",
       "      <th>Maximum-Average-Rating</th>\n",
       "    </tr>\n",
       "  </thead>\n",
       "  <tbody>\n",
       "    <tr>\n",
       "      <th>0</th>\n",
       "      <td>!%@ (A Nutshell handbook)</td>\n",
       "      <td>Donnalyn Frey</td>\n",
       "      <td>O'Reilly</td>\n",
       "      <td>6.00</td>\n",
       "    </tr>\n",
       "    <tr>\n",
       "      <th>1</th>\n",
       "      <td>'A Hell of a Place to Lose a Cow': An American...</td>\n",
       "      <td>Tim Brookes</td>\n",
       "      <td>National Geographic</td>\n",
       "      <td>3.40</td>\n",
       "    </tr>\n",
       "    <tr>\n",
       "      <th>2</th>\n",
       "      <td>10,000 dreams interpreted: A dictionary of dreams</td>\n",
       "      <td>Gustavus Hindman Miller</td>\n",
       "      <td>Barnes &amp;amp; Nobles Books</td>\n",
       "      <td>7.25</td>\n",
       "    </tr>\n",
       "    <tr>\n",
       "      <th>3</th>\n",
       "      <td>101 Famous Poems</td>\n",
       "      <td>Roy J. Cook</td>\n",
       "      <td>McGraw-Hill/Contemporary Books</td>\n",
       "      <td>5.00</td>\n",
       "    </tr>\n",
       "    <tr>\n",
       "      <th>4</th>\n",
       "      <td>15 Houseplants Even You Can't Kill</td>\n",
       "      <td>Joe Elder</td>\n",
       "      <td>Berkley Pub Group</td>\n",
       "      <td>0.00</td>\n",
       "    </tr>\n",
       "  </tbody>\n",
       "</table>\n",
       "</div>"
      ],
      "text/plain": [
       "                                          Book-Title              Book-Author  \\\n",
       "0                          !%@ (A Nutshell handbook)            Donnalyn Frey   \n",
       "1  'A Hell of a Place to Lose a Cow': An American...              Tim Brookes   \n",
       "2  10,000 dreams interpreted: A dictionary of dreams  Gustavus Hindman Miller   \n",
       "3                                   101 Famous Poems              Roy J. Cook   \n",
       "4                 15 Houseplants Even You Can't Kill                Joe Elder   \n",
       "\n",
       "                        Publisher  Maximum-Average-Rating  \n",
       "0                        O'Reilly                    6.00  \n",
       "1             National Geographic                    3.40  \n",
       "2       Barnes &amp; Nobles Books                    7.25  \n",
       "3  McGraw-Hill/Contemporary Books                    5.00  \n",
       "4               Berkley Pub Group                    0.00  "
      ]
     },
     "execution_count": 31,
     "metadata": {},
     "output_type": "execute_result"
    }
   ],
   "source": [
    "minimi = merged_books2.groupby(['Book-Title', 'Book-Author', 'Publisher'], as_index=False)['Average-Rating'].min()\n",
    "massimi = merged_books2.groupby(['Book-Title', 'Book-Author', 'Publisher'], as_index=False)['Average-Rating'].max()\n",
    "\n",
    "minimi.rename({'Average-Rating': 'Minimum-Average-Rating'}, axis='columns', inplace=True)\n",
    "massimi.rename({'Average-Rating': 'Maximum-Average-Rating'}, axis='columns', inplace=True)\n",
    "massimi.head()"
   ]
  },
  {
   "cell_type": "markdown",
   "metadata": {},
   "source": [
    "Creiamo dunque un unico dataframe che comprenda tutte le informazioni necessarie:"
   ]
  },
  {
   "cell_type": "code",
   "execution_count": 32,
   "metadata": {
    "id": "hPIHfyIbbhxC",
    "outputId": "50134800-3160-4cf2-b08f-dc2c12fa6242"
   },
   "outputs": [
    {
     "data": {
      "text/html": [
       "<div>\n",
       "<style scoped>\n",
       "    .dataframe tbody tr th:only-of-type {\n",
       "        vertical-align: middle;\n",
       "    }\n",
       "\n",
       "    .dataframe tbody tr th {\n",
       "        vertical-align: top;\n",
       "    }\n",
       "\n",
       "    .dataframe thead th {\n",
       "        text-align: right;\n",
       "    }\n",
       "</style>\n",
       "<table border=\"1\" class=\"dataframe\">\n",
       "  <thead>\n",
       "    <tr style=\"text-align: right;\">\n",
       "      <th></th>\n",
       "      <th>Book-Title</th>\n",
       "      <th>Book-Author</th>\n",
       "      <th>Publisher</th>\n",
       "      <th>Average-Rating</th>\n",
       "      <th>Minimum-Average-Rating</th>\n",
       "      <th>Maximum-Average-Rating</th>\n",
       "    </tr>\n",
       "  </thead>\n",
       "  <tbody>\n",
       "    <tr>\n",
       "      <th>0</th>\n",
       "      <td>!%@ (A Nutshell handbook)</td>\n",
       "      <td>Donnalyn Frey</td>\n",
       "      <td>O'Reilly</td>\n",
       "      <td>3.000000</td>\n",
       "      <td>0.000000</td>\n",
       "      <td>6.00</td>\n",
       "    </tr>\n",
       "    <tr>\n",
       "      <th>1</th>\n",
       "      <td>'A Hell of a Place to Lose a Cow': An American...</td>\n",
       "      <td>Tim Brookes</td>\n",
       "      <td>National Geographic</td>\n",
       "      <td>1.700000</td>\n",
       "      <td>0.000000</td>\n",
       "      <td>3.40</td>\n",
       "    </tr>\n",
       "    <tr>\n",
       "      <th>2</th>\n",
       "      <td>10,000 dreams interpreted: A dictionary of dreams</td>\n",
       "      <td>Gustavus Hindman Miller</td>\n",
       "      <td>Barnes &amp;amp; Nobles Books</td>\n",
       "      <td>6.958333</td>\n",
       "      <td>6.666667</td>\n",
       "      <td>7.25</td>\n",
       "    </tr>\n",
       "    <tr>\n",
       "      <th>3</th>\n",
       "      <td>101 Famous Poems</td>\n",
       "      <td>Roy J. Cook</td>\n",
       "      <td>McGraw-Hill/Contemporary Books</td>\n",
       "      <td>3.111111</td>\n",
       "      <td>0.000000</td>\n",
       "      <td>5.00</td>\n",
       "    </tr>\n",
       "    <tr>\n",
       "      <th>4</th>\n",
       "      <td>15 Houseplants Even You Can't Kill</td>\n",
       "      <td>Joe Elder</td>\n",
       "      <td>Berkley Pub Group</td>\n",
       "      <td>0.000000</td>\n",
       "      <td>0.000000</td>\n",
       "      <td>0.00</td>\n",
       "    </tr>\n",
       "  </tbody>\n",
       "</table>\n",
       "</div>"
      ],
      "text/plain": [
       "                                          Book-Title              Book-Author  \\\n",
       "0                          !%@ (A Nutshell handbook)            Donnalyn Frey   \n",
       "1  'A Hell of a Place to Lose a Cow': An American...              Tim Brookes   \n",
       "2  10,000 dreams interpreted: A dictionary of dreams  Gustavus Hindman Miller   \n",
       "3                                   101 Famous Poems              Roy J. Cook   \n",
       "4                 15 Houseplants Even You Can't Kill                Joe Elder   \n",
       "\n",
       "                        Publisher  Average-Rating  Minimum-Average-Rating  \\\n",
       "0                        O'Reilly        3.000000                0.000000   \n",
       "1             National Geographic        1.700000                0.000000   \n",
       "2       Barnes &amp; Nobles Books        6.958333                6.666667   \n",
       "3  McGraw-Hill/Contemporary Books        3.111111                0.000000   \n",
       "4               Berkley Pub Group        0.000000                0.000000   \n",
       "\n",
       "   Maximum-Average-Rating  \n",
       "0                    6.00  \n",
       "1                    3.40  \n",
       "2                    7.25  \n",
       "3                    5.00  \n",
       "4                    0.00  "
      ]
     },
     "execution_count": 32,
     "metadata": {},
     "output_type": "execute_result"
    }
   ],
   "source": [
    "merged_books = pd.merge(merged_books, minimi, on=['Book-Title', 'Book-Author', 'Publisher'])\n",
    "merged_books = pd.merge(merged_books, massimi, on=['Book-Title', 'Book-Author', 'Publisher'])\n",
    "merged_books.head()"
   ]
  },
  {
   "cell_type": "markdown",
   "metadata": {
    "id": "rD6vl18jbhxC"
   },
   "source": [
    "### 7. For each book in `goodbooks`, compute the list of its authors. Assuming that the number of reviews with a text (column `work_text_reviews_count`) is split equally among all authors, find for each authors the total number of reviews with a text. We will call this quantity the *shared number of reviews with a text*."
   ]
  },
  {
   "cell_type": "markdown",
   "metadata": {},
   "source": [
    "Come prima cosa inizializziamo una nuova colonna per il dataframe _good_books_ che chiamiamo _List-Of-Authors_ e nella quale salviamo il risultato dello _split_ dei valori della colonna _authors._"
   ]
  },
  {
   "cell_type": "code",
   "execution_count": 33,
   "metadata": {
    "id": "EE-nngpMbhxC",
    "outputId": "2cab8fcc-75e6-4c3a-eb40-7f621dfb0d39"
   },
   "outputs": [
    {
     "data": {
      "text/html": [
       "<div>\n",
       "<style scoped>\n",
       "    .dataframe tbody tr th:only-of-type {\n",
       "        vertical-align: middle;\n",
       "    }\n",
       "\n",
       "    .dataframe tbody tr th {\n",
       "        vertical-align: top;\n",
       "    }\n",
       "\n",
       "    .dataframe thead th {\n",
       "        text-align: right;\n",
       "    }\n",
       "</style>\n",
       "<table border=\"1\" class=\"dataframe\">\n",
       "  <thead>\n",
       "    <tr style=\"text-align: right;\">\n",
       "      <th></th>\n",
       "      <th>book_id</th>\n",
       "      <th>original_title</th>\n",
       "      <th>authors</th>\n",
       "      <th>List-Of-Authors</th>\n",
       "    </tr>\n",
       "  </thead>\n",
       "  <tbody>\n",
       "    <tr>\n",
       "      <th>0</th>\n",
       "      <td>1</td>\n",
       "      <td>The Hunger Games</td>\n",
       "      <td>Suzanne Collins</td>\n",
       "      <td>[Suzanne Collins]</td>\n",
       "    </tr>\n",
       "    <tr>\n",
       "      <th>1</th>\n",
       "      <td>2</td>\n",
       "      <td>Harry Potter and the Philosopher's Stone</td>\n",
       "      <td>J.K. Rowling, Mary GrandPrÃ©</td>\n",
       "      <td>[J.K. Rowling,  Mary GrandPrÃ©]</td>\n",
       "    </tr>\n",
       "    <tr>\n",
       "      <th>2</th>\n",
       "      <td>3</td>\n",
       "      <td>Twilight</td>\n",
       "      <td>Stephenie Meyer</td>\n",
       "      <td>[Stephenie Meyer]</td>\n",
       "    </tr>\n",
       "    <tr>\n",
       "      <th>3</th>\n",
       "      <td>4</td>\n",
       "      <td>To Kill a Mockingbird</td>\n",
       "      <td>Harper Lee</td>\n",
       "      <td>[Harper Lee]</td>\n",
       "    </tr>\n",
       "    <tr>\n",
       "      <th>4</th>\n",
       "      <td>5</td>\n",
       "      <td>The Great Gatsby</td>\n",
       "      <td>F. Scott Fitzgerald</td>\n",
       "      <td>[F. Scott Fitzgerald]</td>\n",
       "    </tr>\n",
       "  </tbody>\n",
       "</table>\n",
       "</div>"
      ],
      "text/plain": [
       "   book_id                            original_title  \\\n",
       "0        1                          The Hunger Games   \n",
       "1        2  Harry Potter and the Philosopher's Stone   \n",
       "2        3                                  Twilight   \n",
       "3        4                     To Kill a Mockingbird   \n",
       "4        5                          The Great Gatsby   \n",
       "\n",
       "                        authors                  List-Of-Authors  \n",
       "0               Suzanne Collins                [Suzanne Collins]  \n",
       "1  J.K. Rowling, Mary GrandPrÃ©  [J.K. Rowling,  Mary GrandPrÃ©]  \n",
       "2               Stephenie Meyer                [Stephenie Meyer]  \n",
       "3                    Harper Lee                     [Harper Lee]  \n",
       "4           F. Scott Fitzgerald            [F. Scott Fitzgerald]  "
      ]
     },
     "execution_count": 33,
     "metadata": {},
     "output_type": "execute_result"
    }
   ],
   "source": [
    "good_book['List-Of-Authors'] = good_book['authors'].str.split(',')\n",
    "good_book[['book_id', 'original_title', 'authors', 'List-Of-Authors']].head()"
   ]
  },
  {
   "cell_type": "code",
   "execution_count": 34,
   "metadata": {},
   "outputs": [],
   "source": [
    "# !pip install gensim\n",
    "from gensim.parsing.preprocessing import strip_multiple_whitespaces"
   ]
  },
  {
   "cell_type": "markdown",
   "metadata": {},
   "source": [
    "Creiamo un dizionario in cui ad ogni autore è associato il numero di recensioni con testo che ha ricevuto, eventualmente divise per il numero di co-autori di ciascun libro."
   ]
  },
  {
   "cell_type": "code",
   "execution_count": 35,
   "metadata": {
    "id": "qAkFOmmfbhxD"
   },
   "outputs": [],
   "source": [
    "autori = dict()\n",
    "for ind, row in good_book.iterrows():\n",
    "    for nome in row['List-Of-Authors']:\n",
    "        nome = nome.strip()\n",
    "        nome = strip_multiple_whitespaces(nome)\n",
    "        if nome not in autori:\n",
    "            autori[nome] = round(row['work_text_reviews_count']/len(row['List-Of-Authors']), 3)\n",
    "        else:\n",
    "            autori[nome] += row['work_text_reviews_count']/len(row['List-Of-Authors'])"
   ]
  },
  {
   "cell_type": "code",
   "execution_count": 36,
   "metadata": {
    "id": "Sz0I6wXBbhxD",
    "outputId": "2b2c9b0b-3f33-4db7-8023-b9f9aeda66e7"
   },
   "outputs": [
    {
     "data": {
      "text/plain": [
       "{'Suzanne Collins': 340066.0,\n",
       " 'J.K. Rowling': 136668.0,\n",
       " 'Mary GrandPrÃ©': 136668.0,\n",
       " 'Stephenie Meyer': 258573.0,\n",
       " 'Harper Lee': 72586.0,\n",
       " 'F. Scott Fitzgerald': 51992.0,\n",
       " 'John Green': 230584.0,\n",
       " 'J.R.R. Tolkien': 52986.0,\n",
       " 'J.D. Salinger': 44920.0,\n",
       " 'Dan Brown': 66672.0,\n",
       " 'Jane Austen': 52994.0,\n",
       " 'Khaled Hosseini': 103375.0,\n",
       " 'Veronica Roth': 156896.0,\n",
       " 'George Orwell': 50644.667,\n",
       " 'Erich Fromm': 15172.667,\n",
       " 'CelÃ¢l Ã\\x9cster': 15172.667,\n",
       " 'Anne Frank': 6941.667,\n",
       " 'Eleanor Roosevelt': 6941.667,\n",
       " 'B.M. Mooyaart-Doubleday': 6941.667,\n",
       " 'Stieg Larsson': 46983.0,\n",
       " 'Reg Keeland': 46983.0,\n",
       " 'Rufus Beck': 12033.0,\n",
       " 'Alice Sebold': 36642.0,\n",
       " 'William Golding': 26886.0,\n",
       " 'William Shakespeare': 7389.0,\n",
       " 'Robert Jackson': 7389.0,\n",
       " 'Gillian Flynn': 121614.0,\n",
       " 'Kathryn Stockett': 78204.0,\n",
       " 'John Steinbeck': 24642.0,\n",
       " 'Arthur Golden': 25605.0,\n",
       " 'E.L. James': 128776.0,\n",
       " 'Paulo Coelho': 27890.5,\n",
       " 'Alan R. Clarke': 27890.5,\n",
       " 'Lois Lowry': 54084.0,\n",
       " 'C.S. Lewis': 15186.0,\n",
       " 'Audrey Niffenegger': 43382.0,\n",
       " 'George R.R. Martin': 46205.0,\n",
       " 'Elizabeth Gilbert': 49714.0,\n",
       " 'Rick Riordan': 46006.0,\n",
       " 'Louisa May Alcott': 17090.0,\n",
       " 'Charlotte BrontÃ«': 15606.0,\n",
       " 'Michael Mason': 15606.0,\n",
       " 'Nicholas Sparks': 17279.0,\n",
       " 'Yann Martel': 42962.0,\n",
       " 'Sara Gruen': 55732.0,\n",
       " 'Markus Zusak': 93611.0,\n",
       " 'Ray Bradbury': 30694.0,\n",
       " 'Shel Silverstein': 23602.0,\n",
       " 'Cassandra Clare': 51589.0,\n",
       " 'Christopher Paolini': 18280.0,\n",
       " 'Douglas Adams': 20345.0,\n",
       " 'Aldous Huxley': 20095.0,\n",
       " 'Sue Monk Kidd': 26522.0,\n",
       " 'Mark Twain': 4149.333,\n",
       " 'John Seelye': 4149.333,\n",
       " 'Guy Cardwell': 4149.333,\n",
       " 'E.B. White': 4348.0,\n",
       " 'Garth Williams': 4348.0,\n",
       " 'Rosemary Wells': 4348.0,\n",
       " 'Mark Haddon': 35796.0,\n",
       " 'Paula Hawkins': 93600.0,\n",
       " 'Philip Pullman': 14915.0,\n",
       " 'Emily BrontÃ«': 13078.5,\n",
       " 'Richard J. Dunn': 13078.5,\n",
       " 'Jodi Picoult': 30719.0,\n",
       " 'Kurt Vonnegut Jr.': 19646.0,\n",
       " 'Margaret Mitchell': 16050.0,\n",
       " 'Stephen Chbosky': 47116.0,\n",
       " 'Orson Scott Card': 38054.0,\n",
       " 'Mary Wollstonecraft Shelley': 6664.333,\n",
       " 'Percy Bysshe Shelley': 6664.333,\n",
       " 'Maurice Hindle': 6664.333,\n",
       " 'Stephen King': 14936.0,\n",
       " 'Helen Fielding': 8157.0,\n",
       " 'Tony Tanner': 3842.0,\n",
       " 'Ros Ballaster': 3842.0,\n",
       " 'Louis Sachar': 15832.0,\n",
       " 'Lauren Weisberger': 8024.0,\n",
       " 'Homer': 1620.2,\n",
       " 'Robert Fagles': 1620.2,\n",
       " 'E.V. Rieu': 1620.2,\n",
       " 'FrÃ©dÃ©ric Mugler': 1620.2,\n",
       " 'Bernard Knox': 1620.2,\n",
       " 'Antoine de Saint-ExupÃ©ry': 6134.25,\n",
       " 'Richard Howard': 6134.25,\n",
       " 'Dom Marcos Barbosa': 6134.25,\n",
       " 'Melina Karakosta': 6134.25,\n",
       " 'Jeannette Walls': 40777.0,\n",
       " 'Jon Krakauer': 17299.0,\n",
       " 'Charles Dickens': 4364.333,\n",
       " 'Richard Maxwell': 4364.333,\n",
       " 'Hablot Knight Browne': 4364.333,\n",
       " 'Michael Crichton': 8143.0,\n",
       " 'John Grisham': 4239.0,\n",
       " 'Elie Wiesel': 11000.5,\n",
       " 'Marion Wiesel': 11000.5,\n",
       " 'William Goldman': 15630.0,\n",
       " 'S.E. Hinton': 22662.0,\n",
       " 'James Dashner': 48942.0,\n",
       " 'Steven D. Levitt': 6834.0,\n",
       " 'Stephen J. Dubner': 6834.0,\n",
       " 'Frances Hodgson Burnett': 13054.0,\n",
       " 'Gabriel GarcÃ\\xada MÃ¡rquez': 10835.5,\n",
       " 'Gregory Rabassa': 10835.5,\n",
       " 'Oscar Wilde': 9823.5,\n",
       " 'Jeffrey Eugenides': 9823.5,\n",
       " 'Bram Stoker': 5754.333,\n",
       " 'Nina Auerbach': 5754.333,\n",
       " 'David J. Skal': 5754.333}"
      ]
     },
     "execution_count": 36,
     "metadata": {},
     "output_type": "execute_result"
    }
   ],
   "source": [
    "shared_number_of_reviews_with_a_text_GB = autori\n",
    "shared_number_of_reviews_with_a_text_GB"
   ]
  },
  {
   "cell_type": "markdown",
   "metadata": {},
   "source": [
    "Per facilità di lettura lo trasformiamo in dataframe e rinominiamo le colonne in modo opportuno."
   ]
  },
  {
   "cell_type": "code",
   "execution_count": 37,
   "metadata": {},
   "outputs": [
    {
     "data": {
      "text/html": [
       "<div>\n",
       "<style scoped>\n",
       "    .dataframe tbody tr th:only-of-type {\n",
       "        vertical-align: middle;\n",
       "    }\n",
       "\n",
       "    .dataframe tbody tr th {\n",
       "        vertical-align: top;\n",
       "    }\n",
       "\n",
       "    .dataframe thead th {\n",
       "        text-align: right;\n",
       "    }\n",
       "</style>\n",
       "<table border=\"1\" class=\"dataframe\">\n",
       "  <thead>\n",
       "    <tr style=\"text-align: right;\">\n",
       "      <th></th>\n",
       "      <th>Author</th>\n",
       "      <th>Number-Of-Reviews</th>\n",
       "    </tr>\n",
       "  </thead>\n",
       "  <tbody>\n",
       "    <tr>\n",
       "      <th>0</th>\n",
       "      <td>Suzanne Collins</td>\n",
       "      <td>340066.000</td>\n",
       "    </tr>\n",
       "    <tr>\n",
       "      <th>1</th>\n",
       "      <td>J.K. Rowling</td>\n",
       "      <td>136668.000</td>\n",
       "    </tr>\n",
       "    <tr>\n",
       "      <th>2</th>\n",
       "      <td>Mary GrandPrÃ©</td>\n",
       "      <td>136668.000</td>\n",
       "    </tr>\n",
       "    <tr>\n",
       "      <th>3</th>\n",
       "      <td>Stephenie Meyer</td>\n",
       "      <td>258573.000</td>\n",
       "    </tr>\n",
       "    <tr>\n",
       "      <th>4</th>\n",
       "      <td>Harper Lee</td>\n",
       "      <td>72586.000</td>\n",
       "    </tr>\n",
       "    <tr>\n",
       "      <th>...</th>\n",
       "      <td>...</td>\n",
       "      <td>...</td>\n",
       "    </tr>\n",
       "    <tr>\n",
       "      <th>104</th>\n",
       "      <td>Oscar Wilde</td>\n",
       "      <td>9823.500</td>\n",
       "    </tr>\n",
       "    <tr>\n",
       "      <th>105</th>\n",
       "      <td>Jeffrey Eugenides</td>\n",
       "      <td>9823.500</td>\n",
       "    </tr>\n",
       "    <tr>\n",
       "      <th>106</th>\n",
       "      <td>Bram Stoker</td>\n",
       "      <td>5754.333</td>\n",
       "    </tr>\n",
       "    <tr>\n",
       "      <th>107</th>\n",
       "      <td>Nina Auerbach</td>\n",
       "      <td>5754.333</td>\n",
       "    </tr>\n",
       "    <tr>\n",
       "      <th>108</th>\n",
       "      <td>David J. Skal</td>\n",
       "      <td>5754.333</td>\n",
       "    </tr>\n",
       "  </tbody>\n",
       "</table>\n",
       "<p>109 rows × 2 columns</p>\n",
       "</div>"
      ],
      "text/plain": [
       "                Author  Number-Of-Reviews\n",
       "0      Suzanne Collins         340066.000\n",
       "1         J.K. Rowling         136668.000\n",
       "2       Mary GrandPrÃ©         136668.000\n",
       "3      Stephenie Meyer         258573.000\n",
       "4           Harper Lee          72586.000\n",
       "..                 ...                ...\n",
       "104        Oscar Wilde           9823.500\n",
       "105  Jeffrey Eugenides           9823.500\n",
       "106        Bram Stoker           5754.333\n",
       "107      Nina Auerbach           5754.333\n",
       "108      David J. Skal           5754.333\n",
       "\n",
       "[109 rows x 2 columns]"
      ]
     },
     "execution_count": 37,
     "metadata": {},
     "output_type": "execute_result"
    }
   ],
   "source": [
    "shared=pd.DataFrame(shared_number_of_reviews_with_a_text_GB.items())\n",
    "shared.rename({0: \"Author\",1:\"Number-Of-Reviews\"},axis='columns',inplace=True)\n",
    "shared"
   ]
  },
  {
   "cell_type": "markdown",
   "metadata": {
    "id": "vmZkmBuZbhxD"
   },
   "source": [
    "### 8. For each year of publication, determine the author that has the largest value of the shared number of reviews with a text."
   ]
  },
  {
   "cell_type": "code",
   "execution_count": 38,
   "metadata": {
    "id": "FRotaVOybhxD",
    "outputId": "de159c8e-5bb5-4d10-c2e6-f86c92043fca"
   },
   "outputs": [
    {
     "data": {
      "text/plain": [
       "Index(['book_id', 'goodreads_book_id', 'best_book_id', 'work_id',\n",
       "       'books_count', 'isbn', 'isbn13', 'authors', 'original_publication_year',\n",
       "       'original_title', 'title', 'language_code', 'average_rating',\n",
       "       'ratings_count', 'work_ratings_count', 'work_text_reviews_count',\n",
       "       'ratings_1', 'ratings_2', 'ratings_3', 'ratings_4', 'ratings_5',\n",
       "       'image_url', 'small_image_url', 'media', 'List-Of-Authors'],\n",
       "      dtype='object')"
      ]
     },
     "execution_count": 38,
     "metadata": {},
     "output_type": "execute_result"
    }
   ],
   "source": [
    "good_book.columns"
   ]
  },
  {
   "cell_type": "markdown",
   "metadata": {
    "id": "D9Gsx3EObhxD"
   },
   "source": [
    "Creiamo un dizionario in cui le chiavi sono gli anni e i valori sono le liste di autori che hanno pubblicato uno o più libri in quell'anno."
   ]
  },
  {
   "cell_type": "code",
   "execution_count": 39,
   "metadata": {
    "id": "1xb95k8cbhxD",
    "outputId": "354e08c9-272a-422d-c3ec-85919d1fc484",
    "scrolled": true
   },
   "outputs": [
    {
     "data": {
      "text/plain": [
       "{2008: ['Suzanne Collins',\n",
       "  'Stephenie Meyer',\n",
       "  'Stephenie Meyer',\n",
       "  'Stephenie Meyer',\n",
       "  'Stephenie Meyer',\n",
       "  'John Green',\n",
       "  'John Green'],\n",
       " 1997: ['J.K. Rowling', ' Mary GrandPrÃ©', 'Arthur Golden', 'Arthur Golden'],\n",
       " 2005: ['Stephenie Meyer',\n",
       "  'Stieg Larsson',\n",
       "  ' Reg Keeland',\n",
       "  'Stieg Larsson',\n",
       "  ' Reg Keeland',\n",
       "  'J.K. Rowling',\n",
       "  ' Mary GrandPrÃ©',\n",
       "  'J.K. Rowling',\n",
       "  ' Mary GrandPrÃ©',\n",
       "  'Rick Riordan',\n",
       "  'Rick Riordan',\n",
       "  'Markus Zusak',\n",
       "  'Markus Zusak',\n",
       "  'John Green',\n",
       "  'John Green',\n",
       "  'Jeannette Walls',\n",
       "  'Jeannette Walls',\n",
       "  'Steven D. Levitt',\n",
       "  ' Stephen J. Dubner',\n",
       "  'Steven D. Levitt',\n",
       "  ' Stephen J. Dubner'],\n",
       " 1960: ['Harper Lee'],\n",
       " 1925: ['F. Scott Fitzgerald'],\n",
       " 2012: ['John Green',\n",
       "  'Gillian Flynn',\n",
       "  'Gillian Flynn',\n",
       "  'Veronica Roth',\n",
       "  'Veronica Roth',\n",
       "  'E.L. James',\n",
       "  'E.L. James'],\n",
       " 1937: ['J.R.R. Tolkien', 'John Steinbeck', 'John Steinbeck'],\n",
       " 1951: ['J.D. Salinger'],\n",
       " 2000: ['Dan Brown',\n",
       "  'J.K. Rowling',\n",
       "  ' Mary GrandPrÃ©',\n",
       "  'J.K. Rowling',\n",
       "  ' Mary GrandPrÃ©'],\n",
       " 1813: ['Jane Austen'],\n",
       " 2003: ['Khaled Hosseini',\n",
       "  'J.K. Rowling',\n",
       "  ' Mary GrandPrÃ©',\n",
       "  'J.K. Rowling',\n",
       "  ' Mary GrandPrÃ©',\n",
       "  'Dan Brown',\n",
       "  'Dan Brown',\n",
       "  'Audrey Niffenegger',\n",
       "  'Audrey Niffenegger',\n",
       "  'Mark Haddon',\n",
       "  'Mark Haddon',\n",
       "  'Lauren Weisberger',\n",
       "  'Lauren Weisberger'],\n",
       " 2011: ['Veronica Roth',\n",
       "  'E.L. James',\n",
       "  'E.L. James',\n",
       "  'E.L. James',\n",
       "  'E.L. James'],\n",
       " 1949: ['George Orwell', ' Erich Fromm', ' CelÃ¢l Ã\\x9cster'],\n",
       " 1945: ['George Orwell'],\n",
       " 1947: ['Anne Frank', ' Eleanor Roosevelt', ' B.M. Mooyaart-Doubleday'],\n",
       " 2009: ['Suzanne Collins',\n",
       "  'Kathryn Stockett',\n",
       "  'Kathryn Stockett',\n",
       "  'James Dashner',\n",
       "  'James Dashner'],\n",
       " 1999: ['J.K. Rowling',\n",
       "  ' Mary GrandPrÃ©',\n",
       "  ' Rufus Beck',\n",
       "  'Stephen Chbosky',\n",
       "  'Stephen Chbosky'],\n",
       " 1954: ['J.R.R. Tolkien', 'William Golding', 'William Golding'],\n",
       " 2010: ['Suzanne Collins'],\n",
       " 2002: ['Alice Sebold', 'Christopher Paolini', 'Christopher Paolini'],\n",
       " 1998: ['J.K. Rowling',\n",
       "  ' Mary GrandPrÃ©',\n",
       "  'Louis Sachar',\n",
       "  ' Louis Sachar',\n",
       "  'Louis Sachar',\n",
       "  ' Louis Sachar'],\n",
       " 2007: ['J.K. Rowling',\n",
       "  ' Mary GrandPrÃ©',\n",
       "  'Cassandra Clare',\n",
       "  'Cassandra Clare',\n",
       "  'Stephenie Meyer',\n",
       "  'Stephenie Meyer',\n",
       "  'Khaled Hosseini',\n",
       "  'Khaled Hosseini'],\n",
       " 1595: ['William Shakespeare', ' Robert Jackson'],\n",
       " 1988: ['Paulo Coelho', ' Alan R. Clarke'],\n",
       " 1993: ['Lois Lowry'],\n",
       " 1950: ['C.S. Lewis'],\n",
       " 1996: ['George R.R. Martin',\n",
       "  'Nicholas Sparks',\n",
       "  'Nicholas Sparks',\n",
       "  'Helen Fielding',\n",
       "  'Helen Fielding',\n",
       "  'Jon Krakauer',\n",
       "  'Jon Krakauer'],\n",
       " 2006: ['Elizabeth Gilbert',\n",
       "  'Sara Gruen',\n",
       "  'Sara Gruen',\n",
       "  'Stephenie Meyer',\n",
       "  'Stephenie Meyer',\n",
       "  'Stieg Larsson',\n",
       "  ' Reg Keeland',\n",
       "  'Stieg Larsson',\n",
       "  ' Reg Keeland'],\n",
       " 1868: ['Louisa May Alcott'],\n",
       " 1847: ['Charlotte BrontÃ«',\n",
       "  ' Michael Mason',\n",
       "  'Emily BrontÃ«',\n",
       "  ' Richard J. Dunn',\n",
       "  'Emily BrontÃ«',\n",
       "  ' Richard J. Dunn'],\n",
       " 2001: ['Yann Martel', 'Sue Monk Kidd', 'Sue Monk Kidd'],\n",
       " 1953: ['Ray Bradbury'],\n",
       " 1974: ['Shel Silverstein'],\n",
       " 1979: ['Douglas Adams'],\n",
       " 1932: ['Aldous Huxley'],\n",
       " 1884: ['Mark Twain', ' John Seelye', ' Guy Cardwell'],\n",
       " 1952: ['E.B. White', ' Garth Williams', ' Rosemary Wells'],\n",
       " 2015: ['Paula Hawkins'],\n",
       " 1995: ['Philip Pullman'],\n",
       " 2004: ['Jodi Picoult'],\n",
       " 1969: ['Kurt Vonnegut Jr.'],\n",
       " 1936: ['Margaret Mitchell'],\n",
       " 1985: ['Orson Scott Card'],\n",
       " 1818: ['Mary Wollstonecraft Shelley',\n",
       "  ' Percy Bysshe Shelley',\n",
       "  ' Maurice Hindle'],\n",
       " 1977: ['Stephen King'],\n",
       " 1811: ['Jane Austen', ' Tony Tanner', ' Ros Ballaster'],\n",
       " -720: ['Homer',\n",
       "  ' Robert Fagles',\n",
       "  ' E.V. Rieu',\n",
       "  ' FrÃ©dÃ©ric Mugler',\n",
       "  ' Bernard Knox'],\n",
       " 1946: ['Antoine de Saint-ExupÃ©ry',\n",
       "  ' Richard Howard',\n",
       "  ' Dom Marcos Barbosa',\n",
       "  ' Melina Karakosta'],\n",
       " 1859: ['Charles Dickens', ' Richard Maxwell', ' Hablot Knight Browne'],\n",
       " 1990: ['Michael Crichton'],\n",
       " 1964: ['Shel Silverstein'],\n",
       " 1989: ['John Grisham'],\n",
       " 1958: ['Elie Wiesel', ' Marion Wiesel'],\n",
       " 1973: ['William Goldman'],\n",
       " 1967: ['S.E. Hinton',\n",
       "  'Gabriel GarcÃ\\xada MÃ¡rquez',\n",
       "  ' Gregory Rabassa',\n",
       "  'Gabriel GarcÃ\\xada MÃ¡rquez',\n",
       "  ' Gregory Rabassa'],\n",
       " 1911: ['Frances Hodgson Burnett'],\n",
       " 1891: ['Oscar Wilde', ' Jeffrey Eugenides'],\n",
       " 1897: ['Bram Stoker', ' Nina Auerbach', ' David J. Skal']}"
      ]
     },
     "execution_count": 39,
     "metadata": {},
     "output_type": "execute_result"
    }
   ],
   "source": [
    "anni_autori = dict()\n",
    "for i, row in good_book.iterrows():\n",
    "    anno = int(row['original_publication_year'])\n",
    "    if anno not in anni_autori:\n",
    "        anni_autori[anno] = row['authors'].strip().split(',')\n",
    "        anni_autori[anno] = strip_multiple_whitespaces(row['authors'].strip()).split(',')\n",
    "    else:\n",
    "        anni_autori[anno].extend(row['authors'].strip().split(','))\n",
    "        anni_autori[anno].extend(strip_multiple_whitespaces(row['authors'].strip()).split(','))\n",
    "        \n",
    "anni_autori"
   ]
  },
  {
   "cell_type": "markdown",
   "metadata": {
    "id": "-ygCxK14bhxD"
   },
   "source": [
    "Da ogni lista eliminiamo i duplicati rendendola prima _set_ e poi nuovamente lista:"
   ]
  },
  {
   "cell_type": "code",
   "execution_count": 40,
   "metadata": {
    "id": "JyQ3nsxebhxD",
    "outputId": "20c19123-3b49-48ce-d1e2-ba4a56545f9a",
    "scrolled": true
   },
   "outputs": [
    {
     "data": {
      "text/plain": [
       "{2008: ['Suzanne Collins', 'Stephenie Meyer', 'John Green'],\n",
       " 1997: ['J.K. Rowling', ' Mary GrandPrÃ©', 'Arthur Golden'],\n",
       " 2005: ['J.K. Rowling',\n",
       "  'Steven D. Levitt',\n",
       "  'John Green',\n",
       "  'Jeannette Walls',\n",
       "  ' Stephen J. Dubner',\n",
       "  ' Mary GrandPrÃ©',\n",
       "  'Stieg Larsson',\n",
       "  'Markus Zusak',\n",
       "  'Stephenie Meyer',\n",
       "  'Rick Riordan',\n",
       "  ' Reg Keeland'],\n",
       " 1960: ['Harper Lee'],\n",
       " 1925: ['F. Scott Fitzgerald'],\n",
       " 2012: ['Gillian Flynn', 'Veronica Roth', 'E.L. James', 'John Green'],\n",
       " 1937: ['J.R.R. Tolkien', 'John Steinbeck'],\n",
       " 1951: ['J.D. Salinger'],\n",
       " 2000: ['J.K. Rowling', ' Mary GrandPrÃ©', 'Dan Brown'],\n",
       " 1813: ['Jane Austen'],\n",
       " 2003: ['J.K. Rowling',\n",
       "  'Audrey Niffenegger',\n",
       "  'Lauren Weisberger',\n",
       "  'Khaled Hosseini',\n",
       "  ' Mary GrandPrÃ©',\n",
       "  'Mark Haddon',\n",
       "  'Dan Brown'],\n",
       " 2011: ['E.L. James', 'Veronica Roth'],\n",
       " 1949: [' Erich Fromm', 'George Orwell', ' CelÃ¢l Ã\\x9cster'],\n",
       " 1945: ['George Orwell'],\n",
       " 1947: [' Eleanor Roosevelt', ' B.M. Mooyaart-Doubleday', 'Anne Frank'],\n",
       " 2009: ['Suzanne Collins', 'Kathryn Stockett', 'James Dashner'],\n",
       " 1999: ['J.K. Rowling', ' Mary GrandPrÃ©', ' Rufus Beck', 'Stephen Chbosky'],\n",
       " 1954: ['J.R.R. Tolkien', 'William Golding'],\n",
       " 2010: ['Suzanne Collins'],\n",
       " 2002: ['Christopher Paolini', 'Alice Sebold'],\n",
       " 1998: [' Louis Sachar', 'J.K. Rowling', ' Mary GrandPrÃ©', 'Louis Sachar'],\n",
       " 2007: ['J.K. Rowling',\n",
       "  'Cassandra Clare',\n",
       "  'Khaled Hosseini',\n",
       "  ' Mary GrandPrÃ©',\n",
       "  'Stephenie Meyer'],\n",
       " 1595: ['William Shakespeare', ' Robert Jackson'],\n",
       " 1988: [' Alan R. Clarke', 'Paulo Coelho'],\n",
       " 1993: ['Lois Lowry'],\n",
       " 1950: ['C.S. Lewis'],\n",
       " 1996: ['Jon Krakauer',\n",
       "  'George R.R. Martin',\n",
       "  'Nicholas Sparks',\n",
       "  'Helen Fielding'],\n",
       " 2006: ['Stieg Larsson',\n",
       "  'Elizabeth Gilbert',\n",
       "  'Stephenie Meyer',\n",
       "  ' Reg Keeland',\n",
       "  'Sara Gruen'],\n",
       " 1868: ['Louisa May Alcott'],\n",
       " 1847: ['Charlotte BrontÃ«',\n",
       "  ' Michael Mason',\n",
       "  ' Richard J. Dunn',\n",
       "  'Emily BrontÃ«'],\n",
       " 2001: ['Sue Monk Kidd', 'Yann Martel'],\n",
       " 1953: ['Ray Bradbury'],\n",
       " 1974: ['Shel Silverstein'],\n",
       " 1979: ['Douglas Adams'],\n",
       " 1932: ['Aldous Huxley'],\n",
       " 1884: [' Guy Cardwell', 'Mark Twain', ' John Seelye'],\n",
       " 1952: ['E.B. White', ' Rosemary Wells', ' Garth Williams'],\n",
       " 2015: ['Paula Hawkins'],\n",
       " 1995: ['Philip Pullman'],\n",
       " 2004: ['Jodi Picoult'],\n",
       " 1969: ['Kurt Vonnegut Jr.'],\n",
       " 1936: ['Margaret Mitchell'],\n",
       " 1985: ['Orson Scott Card'],\n",
       " 1818: [' Percy Bysshe Shelley',\n",
       "  ' Maurice Hindle',\n",
       "  'Mary Wollstonecraft Shelley'],\n",
       " 1977: ['Stephen King'],\n",
       " 1811: [' Ros Ballaster', 'Jane Austen', ' Tony Tanner'],\n",
       " -720: [' FrÃ©dÃ©ric Mugler',\n",
       "  ' E.V. Rieu',\n",
       "  'Homer',\n",
       "  ' Robert Fagles',\n",
       "  ' Bernard Knox'],\n",
       " 1946: [' Melina Karakosta',\n",
       "  'Antoine de Saint-ExupÃ©ry',\n",
       "  ' Richard Howard',\n",
       "  ' Dom Marcos Barbosa'],\n",
       " 1859: [' Richard Maxwell', 'Charles Dickens', ' Hablot Knight Browne'],\n",
       " 1990: ['Michael Crichton'],\n",
       " 1964: ['Shel Silverstein'],\n",
       " 1989: ['John Grisham'],\n",
       " 1958: ['Elie Wiesel', ' Marion Wiesel'],\n",
       " 1973: ['William Goldman'],\n",
       " 1967: [' Gregory Rabassa', 'Gabriel GarcÃ\\xada MÃ¡rquez', 'S.E. Hinton'],\n",
       " 1911: ['Frances Hodgson Burnett'],\n",
       " 1891: [' Jeffrey Eugenides', 'Oscar Wilde'],\n",
       " 1897: [' David J. Skal', ' Nina Auerbach', 'Bram Stoker']}"
      ]
     },
     "execution_count": 40,
     "metadata": {},
     "output_type": "execute_result"
    }
   ],
   "source": [
    "for key, value in anni_autori.items():\n",
    "    anni_autori[key] = list(set(anni_autori[key]))\n",
    "anni_autori"
   ]
  },
  {
   "cell_type": "markdown",
   "metadata": {
    "id": "97MrNP2cbhxD"
   },
   "source": [
    "Osserviamo le chiavi del dizionario, che dovrebbero essere gli anni:"
   ]
  },
  {
   "cell_type": "code",
   "execution_count": 41,
   "metadata": {
    "id": "ht1n1Wy5bhxD",
    "outputId": "3928fefb-0f57-4196-88c0-a37b49b2bd16"
   },
   "outputs": [
    {
     "data": {
      "text/plain": [
       "dict_keys([2008, 1997, 2005, 1960, 1925, 2012, 1937, 1951, 2000, 1813, 2003, 2011, 1949, 1945, 1947, 2009, 1999, 1954, 2010, 2002, 1998, 2007, 1595, 1988, 1993, 1950, 1996, 2006, 1868, 1847, 2001, 1953, 1974, 1979, 1932, 1884, 1952, 2015, 1995, 2004, 1969, 1936, 1985, 1818, 1977, 1811, -720, 1946, 1859, 1990, 1964, 1989, 1958, 1973, 1967, 1911, 1891, 1897])"
      ]
     },
     "execution_count": 41,
     "metadata": {},
     "output_type": "execute_result"
    }
   ],
   "source": [
    "anni_autori.keys()"
   ]
  },
  {
   "cell_type": "markdown",
   "metadata": {
    "id": "e7TYaBMfbhxD"
   },
   "source": [
    "Vi è un valore anomalo: -720. Osserviamo i titoli, gli autori e i codici ISBN a cui è associato questo anno di pubblicazione."
   ]
  },
  {
   "cell_type": "code",
   "execution_count": 42,
   "metadata": {
    "id": "xQc8H7htbhxD",
    "outputId": "755953bd-2d51-44db-c1fe-ecc64183d2d4"
   },
   "outputs": [
    {
     "data": {
      "text/html": [
       "<div>\n",
       "<style scoped>\n",
       "    .dataframe tbody tr th:only-of-type {\n",
       "        vertical-align: middle;\n",
       "    }\n",
       "\n",
       "    .dataframe tbody tr th {\n",
       "        vertical-align: top;\n",
       "    }\n",
       "\n",
       "    .dataframe thead th {\n",
       "        text-align: right;\n",
       "    }\n",
       "</style>\n",
       "<table border=\"1\" class=\"dataframe\">\n",
       "  <thead>\n",
       "    <tr style=\"text-align: right;\">\n",
       "      <th></th>\n",
       "      <th>original_title</th>\n",
       "      <th>isbn</th>\n",
       "      <th>authors</th>\n",
       "    </tr>\n",
       "  </thead>\n",
       "  <tbody>\n",
       "    <tr>\n",
       "      <th>78</th>\n",
       "      <td>á½Î´ÏÏÏÎµÎ¹Î±</td>\n",
       "      <td>143039954</td>\n",
       "      <td>Homer, Robert Fagles, E.V. Rieu, FrÃ©dÃ©ric Mu...</td>\n",
       "    </tr>\n",
       "  </tbody>\n",
       "</table>\n",
       "</div>"
      ],
      "text/plain": [
       "       original_title       isbn  \\\n",
       "78  á½Î´ÏÏÏÎµÎ¹Î±  143039954   \n",
       "\n",
       "                                              authors  \n",
       "78  Homer, Robert Fagles, E.V. Rieu, FrÃ©dÃ©ric Mu...  "
      ]
     },
     "execution_count": 42,
     "metadata": {},
     "output_type": "execute_result"
    }
   ],
   "source": [
    "good_book[good_book['original_publication_year']== -720][['original_title', 'isbn', 'authors']]"
   ]
  },
  {
   "cell_type": "markdown",
   "metadata": {},
   "source": [
    "Osserviamo che il primo autore risulta essere Omero e che il metodo di decoding _latin-1_ non ha correttamente decifrato il titolo di questo libro: ipotizziamo dunque che si possa trattare di un titolo in greco e che l'anno sia negativo in riferimento alla notazione a.C. e d.C. Come ulteriore verifica abbiamo cercato in rete il codice ISBN e abbiamo trovato che corrisponde ad una pubblicazione dell'Odissea tradotta da Fagles e introdotta da Knox ma pubblicata nel 1997. In ogni caso, dunque, l'anno di pubblicazione è inverosimile e non corretto e quindi decidiamo di eliminarlo dal dizionario."
   ]
  },
  {
   "cell_type": "code",
   "execution_count": 43,
   "metadata": {
    "id": "lzRQ_jVMbhxE",
    "outputId": "e52adf49-8308-49ab-a738-b02270f517dc"
   },
   "outputs": [
    {
     "data": {
      "text/plain": [
       "dict_keys([2008, 1997, 2005, 1960, 1925, 2012, 1937, 1951, 2000, 1813, 2003, 2011, 1949, 1945, 1947, 2009, 1999, 1954, 2010, 2002, 1998, 2007, 1595, 1988, 1993, 1950, 1996, 2006, 1868, 1847, 2001, 1953, 1974, 1979, 1932, 1884, 1952, 2015, 1995, 2004, 1969, 1936, 1985, 1818, 1977, 1811, 1946, 1859, 1990, 1964, 1989, 1958, 1973, 1967, 1911, 1891, 1897])"
      ]
     },
     "execution_count": 43,
     "metadata": {},
     "output_type": "execute_result"
    }
   ],
   "source": [
    "del anni_autori[-720]\n",
    "anni_autori.keys()"
   ]
  },
  {
   "cell_type": "markdown",
   "metadata": {
    "id": "cw897MigbhxE"
   },
   "source": [
    "Ora non notiamo valori anomali.\n",
    "\n",
    "Per ciascun anno mostriamo l'autore che ha il numero massimo di recensioni con testo in quell'anno e il relativo numero."
   ]
  },
  {
   "cell_type": "code",
   "execution_count": 44,
   "metadata": {},
   "outputs": [
    {
     "data": {
      "text/html": [
       "<div>\n",
       "<style scoped>\n",
       "    .dataframe tbody tr th:only-of-type {\n",
       "        vertical-align: middle;\n",
       "    }\n",
       "\n",
       "    .dataframe tbody tr th {\n",
       "        vertical-align: top;\n",
       "    }\n",
       "\n",
       "    .dataframe thead th {\n",
       "        text-align: right;\n",
       "    }\n",
       "</style>\n",
       "<table border=\"1\" class=\"dataframe\">\n",
       "  <thead>\n",
       "    <tr style=\"text-align: right;\">\n",
       "      <th></th>\n",
       "      <th>Year</th>\n",
       "      <th>Best-Author</th>\n",
       "      <th>Shared-Views-With-Text</th>\n",
       "    </tr>\n",
       "  </thead>\n",
       "  <tbody>\n",
       "    <tr>\n",
       "      <th>16</th>\n",
       "      <td>1999</td>\n",
       "      <td>Stephen Chbosky</td>\n",
       "      <td>47116.0</td>\n",
       "    </tr>\n",
       "    <tr>\n",
       "      <th>8</th>\n",
       "      <td>2000</td>\n",
       "      <td>Dan Brown</td>\n",
       "      <td>25112.0</td>\n",
       "    </tr>\n",
       "    <tr>\n",
       "      <th>30</th>\n",
       "      <td>2001</td>\n",
       "      <td>Yann Martel</td>\n",
       "      <td>42962.0</td>\n",
       "    </tr>\n",
       "    <tr>\n",
       "      <th>19</th>\n",
       "      <td>2002</td>\n",
       "      <td>Alice Sebold</td>\n",
       "      <td>36642.0</td>\n",
       "    </tr>\n",
       "    <tr>\n",
       "      <th>10</th>\n",
       "      <td>2003</td>\n",
       "      <td>Khaled Hosseini</td>\n",
       "      <td>59730.0</td>\n",
       "    </tr>\n",
       "    <tr>\n",
       "      <th>39</th>\n",
       "      <td>2004</td>\n",
       "      <td>Jodi Picoult</td>\n",
       "      <td>30719.0</td>\n",
       "    </tr>\n",
       "    <tr>\n",
       "      <th>2</th>\n",
       "      <td>2005</td>\n",
       "      <td>Stephenie Meyer</td>\n",
       "      <td>95009.0</td>\n",
       "    </tr>\n",
       "    <tr>\n",
       "      <th>27</th>\n",
       "      <td>2006</td>\n",
       "      <td>Sara Gruen</td>\n",
       "      <td>55732.0</td>\n",
       "    </tr>\n",
       "    <tr>\n",
       "      <th>21</th>\n",
       "      <td>2007</td>\n",
       "      <td>Cassandra Clare</td>\n",
       "      <td>51589.0</td>\n",
       "    </tr>\n",
       "    <tr>\n",
       "      <th>0</th>\n",
       "      <td>2008</td>\n",
       "      <td>Suzanne Collins</td>\n",
       "      <td>155254.0</td>\n",
       "    </tr>\n",
       "    <tr>\n",
       "      <th>15</th>\n",
       "      <td>2009</td>\n",
       "      <td>Suzanne Collins</td>\n",
       "      <td>88538.0</td>\n",
       "    </tr>\n",
       "    <tr>\n",
       "      <th>18</th>\n",
       "      <td>2010</td>\n",
       "      <td>Suzanne Collins</td>\n",
       "      <td>96274.0</td>\n",
       "    </tr>\n",
       "    <tr>\n",
       "      <th>11</th>\n",
       "      <td>2011</td>\n",
       "      <td>E.L. James</td>\n",
       "      <td>103489.0</td>\n",
       "    </tr>\n",
       "    <tr>\n",
       "      <th>5</th>\n",
       "      <td>2012</td>\n",
       "      <td>John Green</td>\n",
       "      <td>140739.0</td>\n",
       "    </tr>\n",
       "    <tr>\n",
       "      <th>37</th>\n",
       "      <td>2015</td>\n",
       "      <td>Paula Hawkins</td>\n",
       "      <td>93600.0</td>\n",
       "    </tr>\n",
       "  </tbody>\n",
       "</table>\n",
       "</div>"
      ],
      "text/plain": [
       "    Year      Best-Author  Shared-Views-With-Text\n",
       "16  1999  Stephen Chbosky                 47116.0\n",
       "8   2000        Dan Brown                 25112.0\n",
       "30  2001      Yann Martel                 42962.0\n",
       "19  2002     Alice Sebold                 36642.0\n",
       "10  2003  Khaled Hosseini                 59730.0\n",
       "39  2004     Jodi Picoult                 30719.0\n",
       "2   2005  Stephenie Meyer                 95009.0\n",
       "27  2006       Sara Gruen                 55732.0\n",
       "21  2007  Cassandra Clare                 51589.0\n",
       "0   2008  Suzanne Collins                155254.0\n",
       "15  2009  Suzanne Collins                 88538.0\n",
       "18  2010  Suzanne Collins                 96274.0\n",
       "11  2011       E.L. James                103489.0\n",
       "5   2012       John Green                140739.0\n",
       "37  2015    Paula Hawkins                 93600.0"
      ]
     },
     "execution_count": 44,
     "metadata": {},
     "output_type": "execute_result"
    }
   ],
   "source": [
    "top_authors = []\n",
    "for year in anni_autori.keys():\n",
    "    libri_anno = good_book[good_book['original_publication_year'] == year] #dataframe\n",
    "    autori_anno=dict()\n",
    "    for i, riga in libri_anno.iterrows():\n",
    "        autori_libro = riga['List-Of-Authors'] #lista di autori di ciascun libro\n",
    "        for nome in autori_libro:\n",
    "            nome = nome.strip() #pulizia del nome\n",
    "            nome = strip_multiple_whitespaces(nome)\n",
    "            if nome not in autori_anno:\n",
    "                autori_anno[nome] = round(riga['work_text_reviews_count']/len(autori_libro), 3)\n",
    "            else:\n",
    "                autori_anno[nome] += riga['work_text_reviews_count']/len(autori_libro)\n",
    "    valori = pd.DataFrame(autori_anno.items()) #coppie autore-numero di reviews\n",
    "    indice = valori[1].idxmax()\n",
    "    top_nome = valori.loc[indice][0]\n",
    "    top_numero = valori.loc[indice][1]\n",
    "    informazioni_top = [year, top_nome, top_numero]\n",
    "    top_authors.append(informazioni_top)\n",
    "    \n",
    "Top_authors = pd.DataFrame(top_authors)\n",
    "Top_authors.rename({0:'Year', 1:'Best-Author', 2:'Shared-Views-With-Text'}, axis='columns', inplace=True)\n",
    "Top_authors.sort_values(by='Year', axis=0, ascending=True, inplace=True)\n",
    "Top_authors.tail(15)"
   ]
  },
  {
   "cell_type": "markdown",
   "metadata": {
    "id": "JXtNmisZbhxE"
   },
   "source": [
    "### 9. Assuming that there are no errors in the ISBN fields, find the books in both datasets, and compute the difference of average rating according to the ratings and the goodratings datasets"
   ]
  },
  {
   "cell_type": "markdown",
   "metadata": {
    "id": "yl9WoeUMbhxE"
   },
   "source": [
    "Abbiamo già calcolato nei punti precedenti 2 e 3 l'_average_rating_ per i libri dei dataset _books_ e _good_book,_ perciò utilizziamo per questo calcolo le colonne delle tabelle che si chiamano, rispettivamente per _books_ e _good_book, Average-Rating_ e _average_rating._"
   ]
  },
  {
   "cell_type": "code",
   "execution_count": 45,
   "metadata": {
    "id": "v3yCdtkJbhxE",
    "outputId": "c993abdc-0377-4209-bc53-6c42572c8948"
   },
   "outputs": [
    {
     "data": {
      "text/html": [
       "<div>\n",
       "<style scoped>\n",
       "    .dataframe tbody tr th:only-of-type {\n",
       "        vertical-align: middle;\n",
       "    }\n",
       "\n",
       "    .dataframe tbody tr th {\n",
       "        vertical-align: top;\n",
       "    }\n",
       "\n",
       "    .dataframe thead th {\n",
       "        text-align: right;\n",
       "    }\n",
       "</style>\n",
       "<table border=\"1\" class=\"dataframe\">\n",
       "  <thead>\n",
       "    <tr style=\"text-align: right;\">\n",
       "      <th></th>\n",
       "      <th>ISBN</th>\n",
       "      <th>Book-Title</th>\n",
       "      <th>Average-Rating-B</th>\n",
       "      <th>Average-Rating-GB</th>\n",
       "      <th>Difference-Of-Ratings</th>\n",
       "    </tr>\n",
       "  </thead>\n",
       "  <tbody>\n",
       "    <tr>\n",
       "      <th>0</th>\n",
       "      <td>1400032717</td>\n",
       "      <td>The Curious Incident of the Dog in the Night-T...</td>\n",
       "      <td>4.813187</td>\n",
       "      <td>3.85</td>\n",
       "      <td>0.963187</td>\n",
       "    </tr>\n",
       "    <tr>\n",
       "      <th>1</th>\n",
       "      <td>014028009X</td>\n",
       "      <td>Bridget Jones's Diary</td>\n",
       "      <td>3.751852</td>\n",
       "      <td>3.75</td>\n",
       "      <td>0.001852</td>\n",
       "    </tr>\n",
       "    <tr>\n",
       "      <th>2</th>\n",
       "      <td>014038572X</td>\n",
       "      <td>The Outsiders (Now in Speak!)</td>\n",
       "      <td>4.460674</td>\n",
       "      <td>4.06</td>\n",
       "      <td>0.400674</td>\n",
       "    </tr>\n",
       "    <tr>\n",
       "      <th>3</th>\n",
       "      <td>1594480001</td>\n",
       "      <td>The Kite Runner</td>\n",
       "      <td>2.400000</td>\n",
       "      <td>4.26</td>\n",
       "      <td>-1.860000</td>\n",
       "    </tr>\n",
       "    <tr>\n",
       "      <th>4</th>\n",
       "      <td>043965548X</td>\n",
       "      <td>Harry Potter and the Prisoner of Azkaban (Harr...</td>\n",
       "      <td>3.533333</td>\n",
       "      <td>4.53</td>\n",
       "      <td>-0.996667</td>\n",
       "    </tr>\n",
       "  </tbody>\n",
       "</table>\n",
       "</div>"
      ],
      "text/plain": [
       "         ISBN                                         Book-Title  \\\n",
       "0  1400032717  The Curious Incident of the Dog in the Night-T...   \n",
       "1  014028009X                              Bridget Jones's Diary   \n",
       "2  014038572X                      The Outsiders (Now in Speak!)   \n",
       "3  1594480001                                    The Kite Runner   \n",
       "4  043965548X  Harry Potter and the Prisoner of Azkaban (Harr...   \n",
       "\n",
       "   Average-Rating-B  Average-Rating-GB  Difference-Of-Ratings  \n",
       "0          4.813187               3.85               0.963187  \n",
       "1          3.751852               3.75               0.001852  \n",
       "2          4.460674               4.06               0.400674  \n",
       "3          2.400000               4.26              -1.860000  \n",
       "4          3.533333               4.53              -0.996667  "
      ]
     },
     "execution_count": 45,
     "metadata": {},
     "output_type": "execute_result"
    }
   ],
   "source": [
    "intersection = pd.merge(books, good_book, left_on='ISBN', right_on='isbn') #how=inner è il default\n",
    "intersection.rename({'Average-Rating': 'Average-Rating-B', 'average_rating': 'Average-Rating-GB'}, axis='columns', inplace=True)\n",
    "intersection['Difference-Of-Ratings'] = intersection['Average-Rating-B'] - intersection['Average-Rating-GB']\n",
    "intersection[['ISBN', 'Book-Title', 'Average-Rating-B', 'Average-Rating-GB', 'Difference-Of-Ratings']]"
   ]
  },
  {
   "cell_type": "markdown",
   "metadata": {
    "id": "6iqgVfXjbhxE"
   },
   "source": [
    "### 10. Split the users dataset according to the age. One dataset contains the users with unknown age, one with age 0-14, one with age 15-24, one with age 25-34, and so on."
   ]
  },
  {
   "cell_type": "markdown",
   "metadata": {
    "id": "29eE8g_bbhxE"
   },
   "source": [
    "Controlliamo se vi sono valori _null_ per il campo _Age_ del dataset _users._"
   ]
  },
  {
   "cell_type": "code",
   "execution_count": 46,
   "metadata": {
    "id": "3xiztlGhbhxE",
    "outputId": "ba1726e3-4e37-42e4-f84d-5965632d7ec2"
   },
   "outputs": [
    {
     "name": "stdout",
     "output_type": "stream",
     "text": [
      "277348\n"
     ]
    },
    {
     "data": {
      "text/plain": [
       "110204"
      ]
     },
     "execution_count": 46,
     "metadata": {},
     "output_type": "execute_result"
    }
   ],
   "source": [
    "print(len(users))\n",
    "len(users[users['Age'].isnull()])"
   ]
  },
  {
   "cell_type": "markdown",
   "metadata": {
    "id": "9NbyETcsbhxE"
   },
   "source": [
    "Nel dataset _users,_ su 277348 osservazioni 110204 presentano un valore nullo _(NaN)_ per il campo _Age._ Definiamo un dataframe che contenga questi valori."
   ]
  },
  {
   "cell_type": "code",
   "execution_count": 47,
   "metadata": {},
   "outputs": [
    {
     "data": {
      "text/html": [
       "<div>\n",
       "<style scoped>\n",
       "    .dataframe tbody tr th:only-of-type {\n",
       "        vertical-align: middle;\n",
       "    }\n",
       "\n",
       "    .dataframe tbody tr th {\n",
       "        vertical-align: top;\n",
       "    }\n",
       "\n",
       "    .dataframe thead th {\n",
       "        text-align: right;\n",
       "    }\n",
       "</style>\n",
       "<table border=\"1\" class=\"dataframe\">\n",
       "  <thead>\n",
       "    <tr style=\"text-align: right;\">\n",
       "      <th></th>\n",
       "      <th>User-ID</th>\n",
       "      <th>Location</th>\n",
       "      <th>Age</th>\n",
       "      <th>city</th>\n",
       "      <th>region</th>\n",
       "      <th>country</th>\n",
       "    </tr>\n",
       "  </thead>\n",
       "  <tbody>\n",
       "    <tr>\n",
       "      <th>0</th>\n",
       "      <td>1</td>\n",
       "      <td>nyc, new york, usa</td>\n",
       "      <td>NaN</td>\n",
       "      <td>nyc</td>\n",
       "      <td>new york</td>\n",
       "      <td>usa</td>\n",
       "    </tr>\n",
       "    <tr>\n",
       "      <th>2</th>\n",
       "      <td>3</td>\n",
       "      <td>moscow, yukon territory, russia</td>\n",
       "      <td>NaN</td>\n",
       "      <td>moscow</td>\n",
       "      <td>yukon territory</td>\n",
       "      <td>russia</td>\n",
       "    </tr>\n",
       "    <tr>\n",
       "      <th>4</th>\n",
       "      <td>5</td>\n",
       "      <td>farnborough, hants, united kingdom</td>\n",
       "      <td>NaN</td>\n",
       "      <td>farnborough</td>\n",
       "      <td>hants</td>\n",
       "      <td>united kingdom</td>\n",
       "    </tr>\n",
       "    <tr>\n",
       "      <th>6</th>\n",
       "      <td>7</td>\n",
       "      <td>washington, dc, usa</td>\n",
       "      <td>NaN</td>\n",
       "      <td>washington</td>\n",
       "      <td>dc</td>\n",
       "      <td>usa</td>\n",
       "    </tr>\n",
       "    <tr>\n",
       "      <th>7</th>\n",
       "      <td>8</td>\n",
       "      <td>timmins, ontario, canada</td>\n",
       "      <td>NaN</td>\n",
       "      <td>timmins</td>\n",
       "      <td>ontario</td>\n",
       "      <td>canada</td>\n",
       "    </tr>\n",
       "  </tbody>\n",
       "</table>\n",
       "</div>"
      ],
      "text/plain": [
       "   User-ID                            Location  Age         city  \\\n",
       "0        1                  nyc, new york, usa  NaN          nyc   \n",
       "2        3     moscow, yukon territory, russia  NaN       moscow   \n",
       "4        5  farnborough, hants, united kingdom  NaN  farnborough   \n",
       "6        7                 washington, dc, usa  NaN   washington   \n",
       "7        8            timmins, ontario, canada  NaN      timmins   \n",
       "\n",
       "             region          country  \n",
       "0          new york              usa  \n",
       "2   yukon territory           russia  \n",
       "4             hants   united kingdom  \n",
       "6                dc              usa  \n",
       "7           ontario           canada  "
      ]
     },
     "execution_count": 47,
     "metadata": {},
     "output_type": "execute_result"
    }
   ],
   "source": [
    "users_unknown = users[users['Age'].isnull() == True]\n",
    "users_unknown.head()"
   ]
  },
  {
   "cell_type": "markdown",
   "metadata": {
    "id": "_R58WOfsbhxE"
   },
   "source": [
    "Definiamo una funzione che estrae dal dataset _users_ le osservazioni che hanno un valore di _Age_ compreso tra due valori dati."
   ]
  },
  {
   "cell_type": "code",
   "execution_count": 48,
   "metadata": {
    "id": "8vHcR10ObhxE"
   },
   "outputs": [],
   "source": [
    "def crea_dataset(a,b):\n",
    "    dataset=users[(users['Age']>=a)&(users['Age']<=b)]\n",
    "    return dataset"
   ]
  },
  {
   "cell_type": "markdown",
   "metadata": {
    "id": "odBJ_GD6bhxF"
   },
   "source": [
    "Per applicarla, verifichiamo quale sia il massimo valore assunto dalla variabile _Age_ nel dataset."
   ]
  },
  {
   "cell_type": "code",
   "execution_count": 49,
   "metadata": {
    "id": "VynmwBKVbhxF",
    "outputId": "2f393fa0-590a-42c7-8793-57e3792dc041"
   },
   "outputs": [
    {
     "data": {
      "text/plain": [
       "20856     244.0\n",
       "8781      239.0\n",
       "58285     237.0\n",
       "1578      231.0\n",
       "8457      230.0\n",
       "172057    229.0\n",
       "242213    228.0\n",
       "192412    228.0\n",
       "182769    228.0\n",
       "163826    226.0\n",
       "211520    223.0\n",
       "245230    220.0\n",
       "37834     219.0\n",
       "52648     212.0\n",
       "92857     210.0\n",
       "Name: Age, dtype: float64"
      ]
     },
     "execution_count": 49,
     "metadata": {},
     "output_type": "execute_result"
    }
   ],
   "source": [
    "users['Age'].sort_values(ascending=False).head(15)"
   ]
  },
  {
   "cell_type": "markdown",
   "metadata": {
    "id": "EVtEWe95bhxF"
   },
   "source": [
    "Ad un primo impatto si tratta di valori molto strani per quello che rappresentano, tuttavia non abbiamo la sicurezza che l'unità di misura utilizzata sia 'anni', anche se lo ipotizziamo. Verifichiamo quante osservazioni presentino valori più elevati di una simbolica età di 105 anni, per capire se essi possono essere considerati come valori anomali o _outliers_ che possono non essere considerati per questo task."
   ]
  },
  {
   "cell_type": "code",
   "execution_count": 50,
   "metadata": {
    "id": "UzK6G0xXbhxF",
    "outputId": "a3ca228b-6879-48f8-82ff-4f73fe4ecba2"
   },
   "outputs": [
    {
     "data": {
      "text/plain": [
       "105"
      ]
     },
     "execution_count": 50,
     "metadata": {},
     "output_type": "execute_result"
    }
   ],
   "source": [
    "len(users[users['Age']>=106])"
   ]
  },
  {
   "cell_type": "code",
   "execution_count": 51,
   "metadata": {},
   "outputs": [],
   "source": [
    "sopra_105=len(users[users['Age']>=106])\n",
    "totali=len(users)"
   ]
  },
  {
   "cell_type": "code",
   "execution_count": 52,
   "metadata": {},
   "outputs": [
    {
     "name": "stdout",
     "output_type": "stream",
     "text": [
      "0.038 %\n"
     ]
    }
   ],
   "source": [
    "print(round(sopra_105/totali*100,3),'%')"
   ]
  },
  {
   "cell_type": "markdown",
   "metadata": {
    "id": "DcNIxNvxbhxF"
   },
   "source": [
    "Le osservazioni che presentano nel campo _Age_ un valore anomalo, maggiore della soglia simbolica dei 105 anni, sono 105. Poiché rappresentano una piccolissima parte del totale delle osservazioni, lo 0.04%, decidiamo di non considerare nella creazione di dataset per intervalli di 10 anni di età le osservazioni che presentano valori maggiori di 105."
   ]
  },
  {
   "cell_type": "markdown",
   "metadata": {},
   "source": [
    "\n",
    "Definiamo dunque i dataset richiesti:"
   ]
  },
  {
   "cell_type": "code",
   "execution_count": 53,
   "metadata": {
    "id": "5enu6vbTbhxF"
   },
   "outputs": [],
   "source": [
    "users_0_14 = crea_dataset(0,14)\n",
    "users_15_24 = crea_dataset(15,24)\n",
    "users_25_34 = crea_dataset(25,34)\n",
    "users_35_44 = crea_dataset(35,44)\n",
    "users_45_54 = crea_dataset(45,54)\n",
    "users_55_64 = crea_dataset(55,64)\n",
    "users_65_74 = crea_dataset(65,74)\n",
    "users_75_84 = crea_dataset(75,84)\n",
    "users_85_94 = crea_dataset(85,94)\n",
    "users_95_104 = crea_dataset(95,104)"
   ]
  },
  {
   "cell_type": "markdown",
   "metadata": {
    "id": "WsJ4dwPjbhxF"
   },
   "source": [
    "E ne stampiamo uno di esempio:"
   ]
  },
  {
   "cell_type": "code",
   "execution_count": 54,
   "metadata": {
    "id": "xgGhAutxbhxF",
    "outputId": "2afb44fd-4ddd-4958-a9a4-5668c5bcbee4"
   },
   "outputs": [
    {
     "data": {
      "text/html": [
       "<div>\n",
       "<style scoped>\n",
       "    .dataframe tbody tr th:only-of-type {\n",
       "        vertical-align: middle;\n",
       "    }\n",
       "\n",
       "    .dataframe tbody tr th {\n",
       "        vertical-align: top;\n",
       "    }\n",
       "\n",
       "    .dataframe thead th {\n",
       "        text-align: right;\n",
       "    }\n",
       "</style>\n",
       "<table border=\"1\" class=\"dataframe\">\n",
       "  <thead>\n",
       "    <tr style=\"text-align: right;\">\n",
       "      <th></th>\n",
       "      <th>User-ID</th>\n",
       "      <th>Location</th>\n",
       "      <th>Age</th>\n",
       "      <th>city</th>\n",
       "      <th>region</th>\n",
       "      <th>country</th>\n",
       "    </tr>\n",
       "  </thead>\n",
       "  <tbody>\n",
       "    <tr>\n",
       "      <th>53</th>\n",
       "      <td>54</td>\n",
       "      <td>eubank, kentucky, usa</td>\n",
       "      <td>44.0</td>\n",
       "      <td>eubank</td>\n",
       "      <td>kentucky</td>\n",
       "      <td>usa</td>\n",
       "    </tr>\n",
       "    <tr>\n",
       "      <th>66</th>\n",
       "      <td>67</td>\n",
       "      <td>framingham, massachusetts, usa</td>\n",
       "      <td>43.0</td>\n",
       "      <td>framingham</td>\n",
       "      <td>massachusetts</td>\n",
       "      <td>usa</td>\n",
       "    </tr>\n",
       "    <tr>\n",
       "      <th>69</th>\n",
       "      <td>70</td>\n",
       "      <td>rochester, new york, usa</td>\n",
       "      <td>44.0</td>\n",
       "      <td>rochester</td>\n",
       "      <td>new york</td>\n",
       "      <td>usa</td>\n",
       "    </tr>\n",
       "    <tr>\n",
       "      <th>74</th>\n",
       "      <td>75</td>\n",
       "      <td>long beach, california, usa</td>\n",
       "      <td>37.0</td>\n",
       "      <td>long beach</td>\n",
       "      <td>california</td>\n",
       "      <td>usa</td>\n",
       "    </tr>\n",
       "    <tr>\n",
       "      <th>84</th>\n",
       "      <td>85</td>\n",
       "      <td>london, england, united kingdom</td>\n",
       "      <td>41.0</td>\n",
       "      <td>london</td>\n",
       "      <td>england</td>\n",
       "      <td>united kingdom</td>\n",
       "    </tr>\n",
       "  </tbody>\n",
       "</table>\n",
       "</div>"
      ],
      "text/plain": [
       "    User-ID                         Location   Age        city  \\\n",
       "53       54            eubank, kentucky, usa  44.0      eubank   \n",
       "66       67   framingham, massachusetts, usa  43.0  framingham   \n",
       "69       70         rochester, new york, usa  44.0   rochester   \n",
       "74       75      long beach, california, usa  37.0  long beach   \n",
       "84       85  london, england, united kingdom  41.0      london   \n",
       "\n",
       "            region          country  \n",
       "53        kentucky              usa  \n",
       "66   massachusetts              usa  \n",
       "69        new york              usa  \n",
       "74      california              usa  \n",
       "84         england   united kingdom  "
      ]
     },
     "execution_count": 54,
     "metadata": {},
     "output_type": "execute_result"
    }
   ],
   "source": [
    "users_35_44.head()"
   ]
  },
  {
   "cell_type": "markdown",
   "metadata": {
    "id": "r3nUNh8fbhxF"
   },
   "source": [
    "### 11. Find the books that appear only in the goodbooks datasets."
   ]
  },
  {
   "cell_type": "markdown",
   "metadata": {
    "id": "TnUsEHG-bhxF"
   },
   "source": [
    "Effettuiamo una _merge_ dei due dataset con le seguenti opzioni:\n",
    "- _how = outer,_ che permette di considerare anche gli elementi che si trovano in uno solo dei due dataset che si uniscono;\n",
    "- _indicator = True,_ che crea una variabile indicante in quale dei due dataset si trovasse l'osservazione _(left_only, right_only, both)._ Questa opzione ci permette successivamente di selezionare le osservazioni che si trovavano solo nel dataset _good_books,_ ovvero quello di destra."
   ]
  },
  {
   "cell_type": "code",
   "execution_count": 55,
   "metadata": {
    "id": "W8P7B7yfbhxF"
   },
   "outputs": [
    {
     "data": {
      "text/html": [
       "<div>\n",
       "<style scoped>\n",
       "    .dataframe tbody tr th:only-of-type {\n",
       "        vertical-align: middle;\n",
       "    }\n",
       "\n",
       "    .dataframe tbody tr th {\n",
       "        vertical-align: top;\n",
       "    }\n",
       "\n",
       "    .dataframe thead th {\n",
       "        text-align: right;\n",
       "    }\n",
       "</style>\n",
       "<table border=\"1\" class=\"dataframe\">\n",
       "  <thead>\n",
       "    <tr style=\"text-align: right;\">\n",
       "      <th></th>\n",
       "      <th>ISBN</th>\n",
       "      <th>Book-Title</th>\n",
       "      <th>Book-Author</th>\n",
       "      <th>_merge</th>\n",
       "    </tr>\n",
       "  </thead>\n",
       "  <tbody>\n",
       "    <tr>\n",
       "      <th>0</th>\n",
       "      <td>0195153448</td>\n",
       "      <td>Classical Mythology</td>\n",
       "      <td>Mark P. O. Morford</td>\n",
       "      <td>left_only</td>\n",
       "    </tr>\n",
       "    <tr>\n",
       "      <th>1</th>\n",
       "      <td>0002005018</td>\n",
       "      <td>Clara Callan</td>\n",
       "      <td>Richard Bruce Wright</td>\n",
       "      <td>left_only</td>\n",
       "    </tr>\n",
       "    <tr>\n",
       "      <th>2</th>\n",
       "      <td>0060973129</td>\n",
       "      <td>Decision in Normandy</td>\n",
       "      <td>Carlo D'Este</td>\n",
       "      <td>left_only</td>\n",
       "    </tr>\n",
       "    <tr>\n",
       "      <th>3</th>\n",
       "      <td>0374157065</td>\n",
       "      <td>Flu: The Story of the Great Influenza Pandemic...</td>\n",
       "      <td>Gina Bari Kolata</td>\n",
       "      <td>left_only</td>\n",
       "    </tr>\n",
       "    <tr>\n",
       "      <th>4</th>\n",
       "      <td>0393045218</td>\n",
       "      <td>The Mummies of Urumchi</td>\n",
       "      <td>E. J. W. Barber</td>\n",
       "      <td>left_only</td>\n",
       "    </tr>\n",
       "  </tbody>\n",
       "</table>\n",
       "</div>"
      ],
      "text/plain": [
       "         ISBN                                         Book-Title  \\\n",
       "0  0195153448                                Classical Mythology   \n",
       "1  0002005018                                       Clara Callan   \n",
       "2  0060973129                               Decision in Normandy   \n",
       "3  0374157065  Flu: The Story of the Great Influenza Pandemic...   \n",
       "4  0393045218                             The Mummies of Urumchi   \n",
       "\n",
       "            Book-Author     _merge  \n",
       "0    Mark P. O. Morford  left_only  \n",
       "1  Richard Bruce Wright  left_only  \n",
       "2          Carlo D'Este  left_only  \n",
       "3      Gina Bari Kolata  left_only  \n",
       "4       E. J. W. Barber  left_only  "
      ]
     },
     "execution_count": 55,
     "metadata": {},
     "output_type": "execute_result"
    }
   ],
   "source": [
    "union = pd.merge(books, good_book, left_on='ISBN', right_on='isbn', how='outer', indicator=True)\n",
    "union[['ISBN','Book-Title','Book-Author','_merge']].head()"
   ]
  },
  {
   "cell_type": "code",
   "execution_count": 56,
   "metadata": {
    "id": "XR73L5ribhxF",
    "outputId": "3f7e963e-723f-4f49-c85a-af4526b31f43"
   },
   "outputs": [
    {
     "data": {
      "text/html": [
       "<div>\n",
       "<style scoped>\n",
       "    .dataframe tbody tr th:only-of-type {\n",
       "        vertical-align: middle;\n",
       "    }\n",
       "\n",
       "    .dataframe tbody tr th {\n",
       "        vertical-align: top;\n",
       "    }\n",
       "\n",
       "    .dataframe thead th {\n",
       "        text-align: right;\n",
       "    }\n",
       "</style>\n",
       "<table border=\"1\" class=\"dataframe\">\n",
       "  <thead>\n",
       "    <tr style=\"text-align: right;\">\n",
       "      <th></th>\n",
       "      <th>isbn</th>\n",
       "    </tr>\n",
       "  </thead>\n",
       "  <tbody>\n",
       "    <tr>\n",
       "      <th>270150</th>\n",
       "      <td>439023483</td>\n",
       "    </tr>\n",
       "    <tr>\n",
       "      <th>270151</th>\n",
       "      <td>439554934</td>\n",
       "    </tr>\n",
       "    <tr>\n",
       "      <th>270152</th>\n",
       "      <td>316015849</td>\n",
       "    </tr>\n",
       "    <tr>\n",
       "      <th>270153</th>\n",
       "      <td>61120081</td>\n",
       "    </tr>\n",
       "    <tr>\n",
       "      <th>270154</th>\n",
       "      <td>743273567</td>\n",
       "    </tr>\n",
       "  </tbody>\n",
       "</table>\n",
       "</div>"
      ],
      "text/plain": [
       "             isbn\n",
       "270150  439023483\n",
       "270151  439554934\n",
       "270152  316015849\n",
       "270153   61120081\n",
       "270154  743273567"
      ]
     },
     "execution_count": 56,
     "metadata": {},
     "output_type": "execute_result"
    }
   ],
   "source": [
    "isbn_only_gb = union[union['_merge'] == 'right_only'][['isbn']]\n",
    "isbn_only_gb.head()"
   ]
  },
  {
   "cell_type": "markdown",
   "metadata": {
    "id": "FmL9drFJbhxF"
   },
   "source": [
    "Una volta ottenuto un dataframe che contiene unicamente gli _isbn_ dei libri che si trovano solo in _good_book,_ effettuiamo un _inner join_ per estrarre e visualizzare anche il titolo e gli autori di ciascun libro."
   ]
  },
  {
   "cell_type": "code",
   "execution_count": 57,
   "metadata": {
    "id": "GVqjeQnMbhxF",
    "outputId": "743484e7-6356-4607-b0e3-9b6baac0e3a7"
   },
   "outputs": [
    {
     "data": {
      "text/html": [
       "<div>\n",
       "<style scoped>\n",
       "    .dataframe tbody tr th:only-of-type {\n",
       "        vertical-align: middle;\n",
       "    }\n",
       "\n",
       "    .dataframe tbody tr th {\n",
       "        vertical-align: top;\n",
       "    }\n",
       "\n",
       "    .dataframe thead th {\n",
       "        text-align: right;\n",
       "    }\n",
       "</style>\n",
       "<table border=\"1\" class=\"dataframe\">\n",
       "  <thead>\n",
       "    <tr style=\"text-align: right;\">\n",
       "      <th></th>\n",
       "      <th>isbn</th>\n",
       "      <th>original_title</th>\n",
       "      <th>authors</th>\n",
       "    </tr>\n",
       "  </thead>\n",
       "  <tbody>\n",
       "    <tr>\n",
       "      <th>0</th>\n",
       "      <td>439023483</td>\n",
       "      <td>The Hunger Games</td>\n",
       "      <td>Suzanne Collins</td>\n",
       "    </tr>\n",
       "    <tr>\n",
       "      <th>1</th>\n",
       "      <td>439554934</td>\n",
       "      <td>Harry Potter and the Philosopher's Stone</td>\n",
       "      <td>J.K. Rowling, Mary GrandPrÃ©</td>\n",
       "    </tr>\n",
       "    <tr>\n",
       "      <th>2</th>\n",
       "      <td>316015849</td>\n",
       "      <td>Twilight</td>\n",
       "      <td>Stephenie Meyer</td>\n",
       "    </tr>\n",
       "    <tr>\n",
       "      <th>3</th>\n",
       "      <td>61120081</td>\n",
       "      <td>To Kill a Mockingbird</td>\n",
       "      <td>Harper Lee</td>\n",
       "    </tr>\n",
       "    <tr>\n",
       "      <th>4</th>\n",
       "      <td>743273567</td>\n",
       "      <td>The Great Gatsby</td>\n",
       "      <td>F. Scott Fitzgerald</td>\n",
       "    </tr>\n",
       "  </tbody>\n",
       "</table>\n",
       "</div>"
      ],
      "text/plain": [
       "        isbn                            original_title  \\\n",
       "0  439023483                          The Hunger Games   \n",
       "1  439554934  Harry Potter and the Philosopher's Stone   \n",
       "2  316015849                                  Twilight   \n",
       "3   61120081                     To Kill a Mockingbird   \n",
       "4  743273567                          The Great Gatsby   \n",
       "\n",
       "                        authors  \n",
       "0               Suzanne Collins  \n",
       "1  J.K. Rowling, Mary GrandPrÃ©  \n",
       "2               Stephenie Meyer  \n",
       "3                    Harper Lee  \n",
       "4           F. Scott Fitzgerald  "
      ]
     },
     "execution_count": 57,
     "metadata": {},
     "output_type": "execute_result"
    }
   ],
   "source": [
    "books_only_gb = pd.merge(good_book, isbn_only_gb, on='isbn') #how='inner' è il default\n",
    "books_only_gb[['isbn', 'original_title', 'authors']].head()"
   ]
  },
  {
   "cell_type": "markdown",
   "metadata": {
    "id": "yI6HCv4KbhxG"
   },
   "source": [
    "### 12. Assuming that each pair (author, title) identifies a book, for each book find the number of times it appears in the books dataset. Which books appear the most times?"
   ]
  },
  {
   "cell_type": "markdown",
   "metadata": {
    "id": "XU3fAswvbhxG"
   },
   "source": [
    "Per rispondere a questo quesito utilizziamo la funzione _groupby_ rispetto alla coppia _(Book-Author, Book-Title),_ conteggiamo la frequenza delle osservazioni e poi le ordiniamo per conteggio in ordine decrescente, per osservare il libro che appare più frequentemente."
   ]
  },
  {
   "cell_type": "code",
   "execution_count": 58,
   "metadata": {
    "id": "frwZ47kEbhxG",
    "outputId": "9a97b7b1-1881-4bda-bdec-d62095416dac"
   },
   "outputs": [
    {
     "data": {
      "text/html": [
       "<div>\n",
       "<style scoped>\n",
       "    .dataframe tbody tr th:only-of-type {\n",
       "        vertical-align: middle;\n",
       "    }\n",
       "\n",
       "    .dataframe tbody tr th {\n",
       "        vertical-align: top;\n",
       "    }\n",
       "\n",
       "    .dataframe thead th {\n",
       "        text-align: right;\n",
       "    }\n",
       "</style>\n",
       "<table border=\"1\" class=\"dataframe\">\n",
       "  <thead>\n",
       "    <tr style=\"text-align: right;\">\n",
       "      <th></th>\n",
       "      <th>Book-Author</th>\n",
       "      <th>Book-Title</th>\n",
       "      <th>Count</th>\n",
       "    </tr>\n",
       "  </thead>\n",
       "  <tbody>\n",
       "    <tr>\n",
       "      <th>149998</th>\n",
       "      <td>Louisa May Alcott</td>\n",
       "      <td>Little Women</td>\n",
       "      <td>21</td>\n",
       "    </tr>\n",
       "    <tr>\n",
       "      <th>160597</th>\n",
       "      <td>Mark Twain</td>\n",
       "      <td>Adventures of Huckleberry Finn</td>\n",
       "      <td>20</td>\n",
       "    </tr>\n",
       "    <tr>\n",
       "      <th>69160</th>\n",
       "      <td>Emily Bronte</td>\n",
       "      <td>Wuthering Heights</td>\n",
       "      <td>20</td>\n",
       "    </tr>\n",
       "    <tr>\n",
       "      <th>106064</th>\n",
       "      <td>Jane Austen</td>\n",
       "      <td>Pride and Prejudice</td>\n",
       "      <td>18</td>\n",
       "    </tr>\n",
       "    <tr>\n",
       "      <th>36365</th>\n",
       "      <td>Charles Dickens</td>\n",
       "      <td>Great Expectations</td>\n",
       "      <td>16</td>\n",
       "    </tr>\n",
       "  </tbody>\n",
       "</table>\n",
       "</div>"
      ],
      "text/plain": [
       "              Book-Author                      Book-Title  Count\n",
       "149998  Louisa May Alcott                    Little Women     21\n",
       "160597         Mark Twain  Adventures of Huckleberry Finn     20\n",
       "69160        Emily Bronte               Wuthering Heights     20\n",
       "106064        Jane Austen             Pride and Prejudice     18\n",
       "36365     Charles Dickens              Great Expectations     16"
      ]
     },
     "execution_count": 58,
     "metadata": {},
     "output_type": "execute_result"
    }
   ],
   "source": [
    "grouped = books.groupby(['Book-Author', 'Book-Title'], as_index=False).count().sort_values(['ISBN'], ascending=False)\n",
    "grouped.rename({'ISBN': 'Count'}, axis='columns', inplace=True)\n",
    "grouped[['Book-Author', 'Book-Title', 'Count']].head()"
   ]
  },
  {
   "cell_type": "markdown",
   "metadata": {
    "id": "yBXZdHIGbhxG"
   },
   "source": [
    "Il libro che appare più frequentemente è _Little Women_ di Louisa May Alcott, per un totale di 21 volte."
   ]
  },
  {
   "cell_type": "markdown",
   "metadata": {
    "id": "9CHxCXH3bhxG"
   },
   "source": [
    "### 13. Find the author with the highest average rating according to the goodbooks datasets."
   ]
  },
  {
   "cell_type": "markdown",
   "metadata": {
    "id": "k3BJXwvsbhxG"
   },
   "source": [
    "Creiamo un dizionario nel quale al nome di ciascun autore sia associata una lista con i diversi ratings che ha ottenuto."
   ]
  },
  {
   "cell_type": "code",
   "execution_count": 59,
   "metadata": {
    "id": "A6pOW-y0bhxG",
    "outputId": "8b24e070-75be-4372-cbe2-a6965106eec7"
   },
   "outputs": [
    {
     "data": {
      "text/plain": [
       "{'Suzanne Collins': [4.34, 4.3, 4.03],\n",
       " 'J.K. Rowling': [4.44, 4.53, 4.46, 4.37, 4.53, 4.61, 4.54],\n",
       " 'Mary GrandPrÃ©': [4.44, 4.53, 4.46, 4.37, 4.53, 4.61, 4.54],\n",
       " 'Stephenie Meyer': [3.57, 3.52, 3.69, 3.7, 3.84],\n",
       " 'Harper Lee': [4.25],\n",
       " 'F. Scott Fitzgerald': [3.89],\n",
       " 'John Green': [4.26, 4.09, 3.88],\n",
       " 'J.R.R. Tolkien': [4.25, 4.34],\n",
       " 'J.D. Salinger': [3.79],\n",
       " 'Dan Brown': [3.85, 3.79],\n",
       " 'Jane Austen': [4.24, 4.06],\n",
       " 'Khaled Hosseini': [4.26, 4.34],\n",
       " 'Veronica Roth': [4.24, 4.07],\n",
       " 'George Orwell': [4.14, 3.87],\n",
       " 'Erich Fromm': [4.14],\n",
       " 'CelÃ¢l Ã\\x9cster': [4.14],\n",
       " 'Anne Frank': [4.1],\n",
       " 'Eleanor Roosevelt': [4.1],\n",
       " 'B.M. Mooyaart-Doubleday': [4.1],\n",
       " 'Stieg Larsson': [4.11, 4.22],\n",
       " 'Reg Keeland': [4.11, 4.22],\n",
       " 'Rufus Beck': [4.53],\n",
       " 'Alice Sebold': [3.77],\n",
       " 'William Golding': [3.64],\n",
       " 'William Shakespeare': [3.73],\n",
       " 'Robert Jackson': [3.73],\n",
       " 'Gillian Flynn': [4.03],\n",
       " 'Kathryn Stockett': [4.45],\n",
       " 'John Steinbeck': [3.84],\n",
       " 'Arthur Golden': [4.08],\n",
       " 'E.L. James': [3.67, 3.88, 3.87],\n",
       " 'Paulo Coelho': [3.82],\n",
       " 'Alan R. Clarke': [3.82],\n",
       " 'Lois Lowry': [4.12],\n",
       " 'C.S. Lewis': [4.19],\n",
       " 'Audrey Niffenegger': [3.95],\n",
       " 'George R.R. Martin': [4.45],\n",
       " 'Elizabeth Gilbert': [3.51],\n",
       " 'Rick Riordan': [4.23],\n",
       " 'Louisa May Alcott': [4.04],\n",
       " 'Charlotte BrontÃ«': [4.1],\n",
       " 'Michael Mason': [4.1],\n",
       " 'Nicholas Sparks': [4.06],\n",
       " 'Yann Martel': [3.88],\n",
       " 'Sara Gruen': [4.07],\n",
       " 'Markus Zusak': [4.36],\n",
       " 'Ray Bradbury': [3.97],\n",
       " 'Shel Silverstein': [4.29, 4.38],\n",
       " 'Cassandra Clare': [4.12],\n",
       " 'Christopher Paolini': [3.86],\n",
       " 'Douglas Adams': [4.2],\n",
       " 'Aldous Huxley': [3.97],\n",
       " 'Sue Monk Kidd': [4.01],\n",
       " 'Mark Twain': [3.8],\n",
       " 'John Seelye': [3.8],\n",
       " 'Guy Cardwell': [3.8],\n",
       " 'E.B. White': [4.15],\n",
       " 'Garth Williams': [4.15],\n",
       " 'Rosemary Wells': [4.15],\n",
       " 'Mark Haddon': [3.85],\n",
       " 'Paula Hawkins': [3.88],\n",
       " 'Philip Pullman': [3.94],\n",
       " 'Emily BrontÃ«': [3.82],\n",
       " 'Richard J. Dunn': [3.82],\n",
       " 'Jodi Picoult': [4.06],\n",
       " 'Kurt Vonnegut Jr.': [4.06],\n",
       " 'Margaret Mitchell': [4.28],\n",
       " 'Stephen Chbosky': [4.21],\n",
       " 'Orson Scott Card': [4.3],\n",
       " 'Mary Wollstonecraft Shelley': [3.75],\n",
       " 'Percy Bysshe Shelley': [3.75],\n",
       " 'Maurice Hindle': [3.75],\n",
       " 'Stephen King': [4.17],\n",
       " 'Helen Fielding': [3.75],\n",
       " 'Tony Tanner': [4.06],\n",
       " 'Ros Ballaster': [4.06],\n",
       " 'Louis Sachar': [3.93, 3.93],\n",
       " 'Lauren Weisberger': [3.7],\n",
       " 'Homer': [3.73],\n",
       " 'Robert Fagles': [3.73],\n",
       " 'E.V. Rieu': [3.73],\n",
       " 'FrÃ©dÃ©ric Mugler': [3.73],\n",
       " 'Bernard Knox': [3.73],\n",
       " 'Antoine de Saint-ExupÃ©ry': [4.28],\n",
       " 'Richard Howard': [4.28],\n",
       " 'Dom Marcos Barbosa': [4.28],\n",
       " 'Melina Karakosta': [4.28],\n",
       " 'Jeannette Walls': [4.24],\n",
       " 'Jon Krakauer': [3.94],\n",
       " 'Charles Dickens': [3.81],\n",
       " 'Richard Maxwell': [3.81],\n",
       " 'Hablot Knight Browne': [3.81],\n",
       " 'Michael Crichton': [3.96],\n",
       " 'John Grisham': [4.03],\n",
       " 'Elie Wiesel': [4.3],\n",
       " 'Marion Wiesel': [4.3],\n",
       " 'William Goldman': [4.25],\n",
       " 'S.E. Hinton': [4.06],\n",
       " 'James Dashner': [4.02],\n",
       " 'Steven D. Levitt': [3.93],\n",
       " 'Stephen J. Dubner': [3.93],\n",
       " 'Frances Hodgson Burnett': [4.12],\n",
       " 'Gabriel GarcÃ\\xada MÃ¡rquez': [4.04],\n",
       " 'Gregory Rabassa': [4.04],\n",
       " 'Oscar Wilde': [4.06],\n",
       " 'Jeffrey Eugenides': [4.06],\n",
       " 'Bram Stoker': [3.98],\n",
       " 'Nina Auerbach': [3.98],\n",
       " 'David J. Skal': [3.98]}"
      ]
     },
     "execution_count": 59,
     "metadata": {},
     "output_type": "execute_result"
    }
   ],
   "source": [
    "autori_ratings = dict()\n",
    "for i, row in good_book.iterrows(): \n",
    "    for autore in row['List-Of-Authors']:\n",
    "        autore = autore.strip()\n",
    "        autore = strip_multiple_whitespaces(autore)\n",
    "        if autore not in autori_ratings:\n",
    "            autori_ratings[autore] = []\n",
    "        autori_ratings[autore].append(row['average_rating'])\n",
    "autori_ratings"
   ]
  },
  {
   "cell_type": "markdown",
   "metadata": {
    "id": "fo9Kou4NbhxG"
   },
   "source": [
    "Successivamente, sostituiamo a ciascuna lista la media dei valori che contiene:"
   ]
  },
  {
   "cell_type": "code",
   "execution_count": 60,
   "metadata": {
    "id": "xEF2YAgZbhxG"
   },
   "outputs": [],
   "source": [
    "import statistics\n",
    "\n",
    "for key, value in autori_ratings.items():\n",
    "    media = statistics.mean(value)\n",
    "    autori_ratings[key] = round(media, 2)"
   ]
  },
  {
   "cell_type": "code",
   "execution_count": 61,
   "metadata": {
    "id": "b400zZNPbhxG",
    "outputId": "deed1695-1453-482b-cffc-9f59461b9df3"
   },
   "outputs": [
    {
     "data": {
      "text/plain": [
       "{'Suzanne Collins': 4.22,\n",
       " 'J.K. Rowling': 4.5,\n",
       " 'Mary GrandPrÃ©': 4.5,\n",
       " 'Stephenie Meyer': 3.66,\n",
       " 'Harper Lee': 4.25,\n",
       " 'F. Scott Fitzgerald': 3.89,\n",
       " 'John Green': 4.08,\n",
       " 'J.R.R. Tolkien': 4.29,\n",
       " 'J.D. Salinger': 3.79,\n",
       " 'Dan Brown': 3.82,\n",
       " 'Jane Austen': 4.15,\n",
       " 'Khaled Hosseini': 4.3,\n",
       " 'Veronica Roth': 4.16,\n",
       " 'George Orwell': 4.0,\n",
       " 'Erich Fromm': 4.14,\n",
       " 'CelÃ¢l Ã\\x9cster': 4.14,\n",
       " 'Anne Frank': 4.1,\n",
       " 'Eleanor Roosevelt': 4.1,\n",
       " 'B.M. Mooyaart-Doubleday': 4.1,\n",
       " 'Stieg Larsson': 4.17,\n",
       " 'Reg Keeland': 4.17,\n",
       " 'Rufus Beck': 4.53,\n",
       " 'Alice Sebold': 3.77,\n",
       " 'William Golding': 3.64,\n",
       " 'William Shakespeare': 3.73,\n",
       " 'Robert Jackson': 3.73,\n",
       " 'Gillian Flynn': 4.03,\n",
       " 'Kathryn Stockett': 4.45,\n",
       " 'John Steinbeck': 3.84,\n",
       " 'Arthur Golden': 4.08,\n",
       " 'E.L. James': 3.81,\n",
       " 'Paulo Coelho': 3.82,\n",
       " 'Alan R. Clarke': 3.82,\n",
       " 'Lois Lowry': 4.12,\n",
       " 'C.S. Lewis': 4.19,\n",
       " 'Audrey Niffenegger': 3.95,\n",
       " 'George R.R. Martin': 4.45,\n",
       " 'Elizabeth Gilbert': 3.51,\n",
       " 'Rick Riordan': 4.23,\n",
       " 'Louisa May Alcott': 4.04,\n",
       " 'Charlotte BrontÃ«': 4.1,\n",
       " 'Michael Mason': 4.1,\n",
       " 'Nicholas Sparks': 4.06,\n",
       " 'Yann Martel': 3.88,\n",
       " 'Sara Gruen': 4.07,\n",
       " 'Markus Zusak': 4.36,\n",
       " 'Ray Bradbury': 3.97,\n",
       " 'Shel Silverstein': 4.33,\n",
       " 'Cassandra Clare': 4.12,\n",
       " 'Christopher Paolini': 3.86,\n",
       " 'Douglas Adams': 4.2,\n",
       " 'Aldous Huxley': 3.97,\n",
       " 'Sue Monk Kidd': 4.01,\n",
       " 'Mark Twain': 3.8,\n",
       " 'John Seelye': 3.8,\n",
       " 'Guy Cardwell': 3.8,\n",
       " 'E.B. White': 4.15,\n",
       " 'Garth Williams': 4.15,\n",
       " 'Rosemary Wells': 4.15,\n",
       " 'Mark Haddon': 3.85,\n",
       " 'Paula Hawkins': 3.88,\n",
       " 'Philip Pullman': 3.94,\n",
       " 'Emily BrontÃ«': 3.82,\n",
       " 'Richard J. Dunn': 3.82,\n",
       " 'Jodi Picoult': 4.06,\n",
       " 'Kurt Vonnegut Jr.': 4.06,\n",
       " 'Margaret Mitchell': 4.28,\n",
       " 'Stephen Chbosky': 4.21,\n",
       " 'Orson Scott Card': 4.3,\n",
       " 'Mary Wollstonecraft Shelley': 3.75,\n",
       " 'Percy Bysshe Shelley': 3.75,\n",
       " 'Maurice Hindle': 3.75,\n",
       " 'Stephen King': 4.17,\n",
       " 'Helen Fielding': 3.75,\n",
       " 'Tony Tanner': 4.06,\n",
       " 'Ros Ballaster': 4.06,\n",
       " 'Louis Sachar': 3.93,\n",
       " 'Lauren Weisberger': 3.7,\n",
       " 'Homer': 3.73,\n",
       " 'Robert Fagles': 3.73,\n",
       " 'E.V. Rieu': 3.73,\n",
       " 'FrÃ©dÃ©ric Mugler': 3.73,\n",
       " 'Bernard Knox': 3.73,\n",
       " 'Antoine de Saint-ExupÃ©ry': 4.28,\n",
       " 'Richard Howard': 4.28,\n",
       " 'Dom Marcos Barbosa': 4.28,\n",
       " 'Melina Karakosta': 4.28,\n",
       " 'Jeannette Walls': 4.24,\n",
       " 'Jon Krakauer': 3.94,\n",
       " 'Charles Dickens': 3.81,\n",
       " 'Richard Maxwell': 3.81,\n",
       " 'Hablot Knight Browne': 3.81,\n",
       " 'Michael Crichton': 3.96,\n",
       " 'John Grisham': 4.03,\n",
       " 'Elie Wiesel': 4.3,\n",
       " 'Marion Wiesel': 4.3,\n",
       " 'William Goldman': 4.25,\n",
       " 'S.E. Hinton': 4.06,\n",
       " 'James Dashner': 4.02,\n",
       " 'Steven D. Levitt': 3.93,\n",
       " 'Stephen J. Dubner': 3.93,\n",
       " 'Frances Hodgson Burnett': 4.12,\n",
       " 'Gabriel GarcÃ\\xada MÃ¡rquez': 4.04,\n",
       " 'Gregory Rabassa': 4.04,\n",
       " 'Oscar Wilde': 4.06,\n",
       " 'Jeffrey Eugenides': 4.06,\n",
       " 'Bram Stoker': 3.98,\n",
       " 'Nina Auerbach': 3.98,\n",
       " 'David J. Skal': 3.98}"
      ]
     },
     "execution_count": 61,
     "metadata": {},
     "output_type": "execute_result"
    }
   ],
   "source": [
    "autori_ratings"
   ]
  },
  {
   "cell_type": "markdown",
   "metadata": {
    "id": "cFIw9vUHbhxG"
   },
   "source": [
    "Ed infine estraiamo l'autore che presenta il rating medio più alto."
   ]
  },
  {
   "cell_type": "code",
   "execution_count": 62,
   "metadata": {
    "id": "pDrbgQJdbhxG",
    "outputId": "4bbabe4a-6593-41d8-d1d2-afd1d8a932bd"
   },
   "outputs": [
    {
     "data": {
      "text/plain": [
       "'Rufus Beck'"
      ]
     },
     "execution_count": 62,
     "metadata": {},
     "output_type": "execute_result"
    }
   ],
   "source": [
    "autori_data_frame = pd.DataFrame(autori_ratings.items())\n",
    "autori_data_frame.rename({0:'Author',1:'Average-Rating'}, axis='columns', inplace=True)\n",
    "indice_max = autori_data_frame['Average-Rating'].idxmax()\n",
    "autori_data_frame.loc[indice_max]['Author']"
   ]
  },
  {
   "cell_type": "markdown",
   "metadata": {
    "id": "C4ilIBBvbhxG"
   },
   "source": [
    "Con un _average_rating_ pari a:"
   ]
  },
  {
   "cell_type": "code",
   "execution_count": 63,
   "metadata": {
    "id": "NM02g4vdbhxG"
   },
   "outputs": [
    {
     "data": {
      "text/plain": [
       "4.53"
      ]
     },
     "execution_count": 63,
     "metadata": {},
     "output_type": "execute_result"
    }
   ],
   "source": [
    "autori_data_frame.loc[indice_max]['Average-Rating']"
   ]
  }
 ],
 "metadata": {
  "colab": {
   "collapsed_sections": [],
   "name": "Proj_con_commenti_4 dicembre.ipynb",
   "provenance": []
  },
  "kernelspec": {
   "display_name": "Python 3",
   "language": "python",
   "name": "python3"
  },
  "language_info": {
   "codemirror_mode": {
    "name": "ipython",
    "version": 3
   },
   "file_extension": ".py",
   "mimetype": "text/x-python",
   "name": "python",
   "nbconvert_exporter": "python",
   "pygments_lexer": "ipython3",
   "version": "3.8.3"
  }
 },
 "nbformat": 4,
 "nbformat_minor": 1
}
